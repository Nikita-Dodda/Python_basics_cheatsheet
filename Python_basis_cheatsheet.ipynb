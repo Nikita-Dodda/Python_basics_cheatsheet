{
 "cells": [
  {
   "cell_type": "markdown",
   "metadata": {},
   "source": [
    "# PRINT"
   ]
  },
  {
   "cell_type": "code",
   "execution_count": 1,
   "metadata": {},
   "outputs": [
    {
     "name": "stdout",
     "output_type": "stream",
     "text": [
      "hello world\n"
     ]
    }
   ],
   "source": [
    "  print(\"hello world\")"
   ]
  },
  {
   "cell_type": "code",
   "execution_count": 32,
   "metadata": {},
   "outputs": [
    {
     "name": "stdout",
     "output_type": "stream",
     "text": [
      "hi asu!\n"
     ]
    }
   ],
   "source": [
    "print(\"hi asu!\")"
   ]
  },
  {
   "cell_type": "code",
   "execution_count": 12,
   "metadata": {},
   "outputs": [
    {
     "name": "stdout",
     "output_type": "stream",
     "text": [
      "\"hello world.\".\n"
     ]
    }
   ],
   "source": [
    "print(\"\\\"hello world.\\\".\")   #escape -\\ : this prints with quotation marks"
   ]
  },
  {
   "cell_type": "code",
   "execution_count": 6,
   "metadata": {},
   "outputs": [
    {
     "name": "stdout",
     "output_type": "stream",
     "text": [
      "hey! i am learning python this is my first class in python\n"
     ]
    }
   ],
   "source": [
    "print(\"hey! i am learning python\\\n",
    " this is my first class in python\")   #using \\ again"
   ]
  },
  {
   "cell_type": "code",
   "execution_count": 8,
   "metadata": {},
   "outputs": [
    {
     "name": "stdout",
     "output_type": "stream",
     "text": [
      "hey! i am learning python.\n",
      "and this is my first class\n"
     ]
    }
   ],
   "source": [
    "print(\"\"\"hey! i am learning python\n",
    "and this is my first class\"\"\")     #using triple quotation \"\"\"...\"\"\""
   ]
  },
  {
   "cell_type": "code",
   "execution_count": 10,
   "metadata": {},
   "outputs": [
    {
     "name": "stdout",
     "output_type": "stream",
     "text": [
      "i am learning python. \n",
      "this is my first class in python\n"
     ]
    }
   ],
   "source": [
    "print(\"i am learning python. \\nthis is my first class in python\") # using \\n for new line"
   ]
  },
  {
   "cell_type": "markdown",
   "metadata": {},
   "source": [
    "###### read this "
   ]
  },
  {
   "cell_type": "code",
   "execution_count": 11,
   "metadata": {},
   "outputs": [
    {
     "name": "stdout",
     "output_type": "stream",
     "text": [
      "i am learning python. \\nthis is my first class in python\n"
     ]
    }
   ],
   "source": [
    "print(r\"i am learning python. \\nthis is my first class in python\")   #using r in the begining "
   ]
  },
  {
   "cell_type": "code",
   "execution_count": 15,
   "metadata": {},
   "outputs": [
    {
     "name": "stdout",
     "output_type": "stream",
     "text": [
      "i am learning python this is my first class\n"
     ]
    }
   ],
   "source": [
    "print(\"i am learning python\", end=' ')\n",
    "print(\"this is my first class\")         #using (\" \", end=' ...') for continuing nxt print statement"
   ]
  },
  {
   "cell_type": "code",
   "execution_count": 16,
   "metadata": {},
   "outputs": [
    {
     "name": "stdout",
     "output_type": "stream",
     "text": [
      "-------------------------\n"
     ]
    }
   ],
   "source": [
    "print(\"-\"*25)"
   ]
  },
  {
   "cell_type": "code",
   "execution_count": 18,
   "metadata": {},
   "outputs": [
    {
     "name": "stdout",
     "output_type": "stream",
     "text": [
      "nikita nikita nikita nikita nikita \n"
     ]
    }
   ],
   "source": [
    "print(\"nikita \"*5)"
   ]
  },
  {
   "cell_type": "code",
   "execution_count": 20,
   "metadata": {},
   "outputs": [
    {
     "name": "stdout",
     "output_type": "stream",
     "text": [
      "can you hear me now can you see me now\n"
     ]
    }
   ],
   "source": [
    "print(\"can you hear me now\" + \" can you see me now\") #concatenation"
   ]
  },
  {
   "cell_type": "code",
   "execution_count": 21,
   "metadata": {},
   "outputs": [
    {
     "name": "stdout",
     "output_type": "stream",
     "text": [
      "5\n"
     ]
    }
   ],
   "source": [
    "print(2+3)"
   ]
  },
  {
   "cell_type": "code",
   "execution_count": 23,
   "metadata": {},
   "outputs": [
    {
     "name": "stdout",
     "output_type": "stream",
     "text": [
      "no. of times i repeate myself: 3\n"
     ]
    }
   ],
   "source": [
    "print(\"no. of times i repeate myself:\", 3)    # comma , is used for concatenating "
   ]
  },
  {
   "cell_type": "code",
   "execution_count": 28,
   "metadata": {},
   "outputs": [
    {
     "name": "stdout",
     "output_type": "stream",
     "text": [
      "hi there how are u\n"
     ]
    }
   ],
   "source": [
    "print(\"hi\",\"there\",\"how\",\"are u\")"
   ]
  },
  {
   "cell_type": "code",
   "execution_count": 31,
   "metadata": {},
   "outputs": [
    {
     "name": "stdout",
     "output_type": "stream",
     "text": [
      "i have 20 oranges and 10 apples\n"
     ]
    }
   ],
   "source": [
    "print(\"i have\",20,\"oranges and\", 10, \"apples\")"
   ]
  },
  {
   "cell_type": "code",
   "execution_count": 11,
   "metadata": {},
   "outputs": [],
   "source": [
    "## misc"
   ]
  },
  {
   "cell_type": "code",
   "execution_count": 12,
   "metadata": {},
   "outputs": [
    {
     "name": "stdout",
     "output_type": "stream",
     "text": [
      "doesn't\n"
     ]
    }
   ],
   "source": [
    "print(\"doesn\\'t\")"
   ]
  },
  {
   "cell_type": "code",
   "execution_count": 13,
   "metadata": {},
   "outputs": [
    {
     "name": "stdout",
     "output_type": "stream",
     "text": [
      "doesn't\n"
     ]
    }
   ],
   "source": [
    "print(\"doesn't\")"
   ]
  },
  {
   "cell_type": "markdown",
   "metadata": {},
   "source": [
    "# VARIABLES"
   ]
  },
  {
   "cell_type": "code",
   "execution_count": 36,
   "metadata": {},
   "outputs": [
    {
     "name": "stdout",
     "output_type": "stream",
     "text": [
      "no. of miles travelled 100\n",
      "time taken in hours is 20.0\n",
      "speed is  5.0\n"
     ]
    }
   ],
   "source": [
    "distance_travelled_mi=100\n",
    "time_taken_in_min=1200\n",
    "time_taken_in_hr= time_taken_in_min/60\n",
    "\n",
    "print(\"no. of miles travelled\", distance_travelled_mi)\n",
    "print(\"time taken in hours is\", time_taken_in_hr)\n",
    "print(\"speed is \", distance_travelled_mi/time_taken_in_hr)"
   ]
  },
  {
   "cell_type": "code",
   "execution_count": 37,
   "metadata": {},
   "outputs": [
    {
     "name": "stdout",
     "output_type": "stream",
     "text": [
      "0\n"
     ]
    }
   ],
   "source": [
    "_total_memory=0\n",
    "print(_total_memory)"
   ]
  },
  {
   "cell_type": "code",
   "execution_count": 38,
   "metadata": {},
   "outputs": [
    {
     "ename": "SyntaxError",
     "evalue": "invalid syntax (<ipython-input-38-01fb013194d4>, line 1)",
     "output_type": "error",
     "traceback": [
      "\u001b[0;36m  File \u001b[0;32m\"<ipython-input-38-01fb013194d4>\"\u001b[0;36m, line \u001b[0;32m1\u001b[0m\n\u001b[0;31m    1stpass=3\u001b[0m\n\u001b[0m          ^\u001b[0m\n\u001b[0;31mSyntaxError\u001b[0m\u001b[0;31m:\u001b[0m invalid syntax\n"
     ]
    }
   ],
   "source": [
    "1stpass=3\n",
    "#doesnt work as the variable starts with a number"
   ]
  },
  {
   "cell_type": "code",
   "execution_count": 39,
   "metadata": {},
   "outputs": [
    {
     "name": "stdout",
     "output_type": "stream",
     "text": [
      "nikita dodda\n"
     ]
    }
   ],
   "source": [
    "print(\"nikita dodda\")"
   ]
  },
  {
   "cell_type": "code",
   "execution_count": 41,
   "metadata": {},
   "outputs": [
    {
     "name": "stdout",
     "output_type": "stream",
     "text": [
      "nikita dodda\n"
     ]
    }
   ],
   "source": [
    "myname=\"nikita dodda\"\n",
    "print(myname)"
   ]
  },
  {
   "cell_type": "code",
   "execution_count": 1,
   "metadata": {},
   "outputs": [
    {
     "name": "stdout",
     "output_type": "stream",
     "text": [
      "i have apples and oranges i have 10 apples 20 oranges\n"
     ]
    }
   ],
   "source": [
    "fruits=\"apples and oranges\"\n",
    "apples=10\n",
    "oranges=20\n",
    "\n",
    "print(\"i have\", fruits, \"i have\", apples,\"apples\",oranges,\"oranges\")"
   ]
  },
  {
   "cell_type": "markdown",
   "metadata": {},
   "source": [
    "# OPERATORS"
   ]
  },
  {
   "cell_type": "code",
   "execution_count": 44,
   "metadata": {},
   "outputs": [
    {
     "data": {
      "text/plain": [
       "1"
      ]
     },
     "execution_count": 44,
     "metadata": {},
     "output_type": "execute_result"
    }
   ],
   "source": [
    "15//9"
   ]
  },
  {
   "cell_type": "code",
   "execution_count": 49,
   "metadata": {},
   "outputs": [
    {
     "name": "stdout",
     "output_type": "stream",
     "text": [
      "50\n",
      "1\n",
      "50.5\n"
     ]
    }
   ],
   "source": [
    "print(101//2) #floor operator\n",
    "print(101%2)\n",
    "print(101/2)  #float operator"
   ]
  },
  {
   "cell_type": "code",
   "execution_count": 10,
   "metadata": {},
   "outputs": [
    {
     "data": {
      "text/plain": [
       "-9"
      ]
     },
     "execution_count": 10,
     "metadata": {},
     "output_type": "execute_result"
    }
   ],
   "source": [
    "-3**2 #power operator"
   ]
  },
  {
   "cell_type": "code",
   "execution_count": 47,
   "metadata": {},
   "outputs": [
    {
     "data": {
      "text/plain": [
       "9"
      ]
     },
     "execution_count": 47,
     "metadata": {},
     "output_type": "execute_result"
    }
   ],
   "source": [
    "(-3)**2"
   ]
  },
  {
   "cell_type": "code",
   "execution_count": 2,
   "metadata": {},
   "outputs": [
    {
     "data": {
      "text/plain": [
       "-9"
      ]
     },
     "execution_count": 2,
     "metadata": {},
     "output_type": "execute_result"
    }
   ],
   "source": [
    "-3**2"
   ]
  },
  {
   "cell_type": "code",
   "execution_count": 1,
   "metadata": {},
   "outputs": [
    {
     "data": {
      "text/plain": [
       "0.1111111111111111"
      ]
     },
     "execution_count": 1,
     "metadata": {},
     "output_type": "execute_result"
    }
   ],
   "source": [
    "3**-2"
   ]
  },
  {
   "cell_type": "markdown",
   "metadata": {},
   "source": [
    "###### read this"
   ]
  },
  {
   "cell_type": "code",
   "execution_count": 7,
   "metadata": {},
   "outputs": [
    {
     "data": {
      "text/plain": [
       "-3"
      ]
     },
     "execution_count": 7,
     "metadata": {},
     "output_type": "execute_result"
    }
   ],
   "source": [
    "~2 #bitwise operator"
   ]
  },
  {
   "cell_type": "code",
   "execution_count": 8,
   "metadata": {},
   "outputs": [
    {
     "data": {
      "text/plain": [
       "-2"
      ]
     },
     "execution_count": 8,
     "metadata": {},
     "output_type": "execute_result"
    }
   ],
   "source": [
    "-2 #unary operator"
   ]
  },
  {
   "cell_type": "code",
   "execution_count": 9,
   "metadata": {},
   "outputs": [
    {
     "name": "stdout",
     "output_type": "stream",
     "text": [
      "~2 =  -3 (bitwise inversion)\n"
     ]
    }
   ],
   "source": [
    "print (\"~2 = \", ~2, \"(bitwise inversion)\")"
   ]
  },
  {
   "cell_type": "code",
   "execution_count": 11,
   "metadata": {},
   "outputs": [
    {
     "data": {
      "text/plain": [
       "12"
      ]
     },
     "execution_count": 11,
     "metadata": {},
     "output_type": "execute_result"
    }
   ],
   "source": [
    "100>>3 #this is same as 100//(2**3)"
   ]
  },
  {
   "cell_type": "code",
   "execution_count": 12,
   "metadata": {},
   "outputs": [
    {
     "data": {
      "text/plain": [
       "12"
      ]
     },
     "execution_count": 12,
     "metadata": {},
     "output_type": "execute_result"
    }
   ],
   "source": [
    "100//(2**3)"
   ]
  },
  {
   "cell_type": "code",
   "execution_count": 13,
   "metadata": {},
   "outputs": [
    {
     "data": {
      "text/plain": [
       "800"
      ]
     },
     "execution_count": 13,
     "metadata": {},
     "output_type": "execute_result"
    }
   ],
   "source": [
    "100<<3 #this is same as 100*(2**3)"
   ]
  },
  {
   "cell_type": "code",
   "execution_count": 14,
   "metadata": {},
   "outputs": [
    {
     "data": {
      "text/plain": [
       "800"
      ]
     },
     "execution_count": 14,
     "metadata": {},
     "output_type": "execute_result"
    }
   ],
   "source": [
    "100*(2**3)"
   ]
  },
  {
   "cell_type": "code",
   "execution_count": 15,
   "metadata": {},
   "outputs": [],
   "source": [
    "#binary bitwise operators"
   ]
  },
  {
   "cell_type": "code",
   "execution_count": 27,
   "metadata": {},
   "outputs": [
    {
     "data": {
      "text/plain": [
       "3"
      ]
     },
     "execution_count": 27,
     "metadata": {},
     "output_type": "execute_result"
    }
   ],
   "source": [
    "3|3"
   ]
  },
  {
   "cell_type": "code",
   "execution_count": 25,
   "metadata": {},
   "outputs": [
    {
     "data": {
      "text/plain": [
       "0"
      ]
     },
     "execution_count": 25,
     "metadata": {},
     "output_type": "execute_result"
    }
   ],
   "source": [
    "3^3"
   ]
  },
  {
   "cell_type": "code",
   "execution_count": 24,
   "metadata": {},
   "outputs": [
    {
     "data": {
      "text/plain": [
       "3"
      ]
     },
     "execution_count": 24,
     "metadata": {},
     "output_type": "execute_result"
    }
   ],
   "source": [
    "3&3"
   ]
  },
  {
   "cell_type": "code",
   "execution_count": 28,
   "metadata": {},
   "outputs": [
    {
     "data": {
      "text/plain": [
       "3"
      ]
     },
     "execution_count": 28,
     "metadata": {},
     "output_type": "execute_result"
    }
   ],
   "source": [
    "3|0"
   ]
  },
  {
   "cell_type": "code",
   "execution_count": 30,
   "metadata": {},
   "outputs": [
    {
     "data": {
      "text/plain": [
       "3"
      ]
     },
     "execution_count": 30,
     "metadata": {},
     "output_type": "execute_result"
    }
   ],
   "source": [
    "3^0"
   ]
  },
  {
   "cell_type": "code",
   "execution_count": 31,
   "metadata": {},
   "outputs": [
    {
     "data": {
      "text/plain": [
       "0"
      ]
     },
     "execution_count": 31,
     "metadata": {},
     "output_type": "execute_result"
    }
   ],
   "source": [
    "3&0"
   ]
  },
  {
   "cell_type": "markdown",
   "metadata": {},
   "source": [
    "### Comparison Operators"
   ]
  },
  {
   "cell_type": "code",
   "execution_count": 39,
   "metadata": {},
   "outputs": [
    {
     "name": "stdout",
     "output_type": "stream",
     "text": [
      "5>2? True\n"
     ]
    }
   ],
   "source": [
    "print(\"5>2?\", 5>2)"
   ]
  },
  {
   "cell_type": "code",
   "execution_count": 40,
   "metadata": {},
   "outputs": [
    {
     "name": "stdout",
     "output_type": "stream",
     "text": [
      "5==3 False\n"
     ]
    }
   ],
   "source": [
    "print(\"5==3\", 5==3)"
   ]
  },
  {
   "cell_type": "code",
   "execution_count": 41,
   "metadata": {},
   "outputs": [
    {
     "data": {
      "text/plain": [
       "False"
      ]
     },
     "execution_count": 41,
     "metadata": {},
     "output_type": "execute_result"
    }
   ],
   "source": [
    "5<=4"
   ]
  },
  {
   "cell_type": "code",
   "execution_count": 42,
   "metadata": {},
   "outputs": [
    {
     "data": {
      "text/plain": [
       "True"
      ]
     },
     "execution_count": 42,
     "metadata": {},
     "output_type": "execute_result"
    }
   ],
   "source": [
    "2 in (2,3,4)"
   ]
  },
  {
   "cell_type": "code",
   "execution_count": 43,
   "metadata": {},
   "outputs": [
    {
     "data": {
      "text/plain": [
       "True"
      ]
     },
     "execution_count": 43,
     "metadata": {},
     "output_type": "execute_result"
    }
   ],
   "source": [
    "5 not in (1,2,3)"
   ]
  },
  {
   "cell_type": "markdown",
   "metadata": {},
   "source": [
    "### Boolean Operators"
   ]
  },
  {
   "cell_type": "code",
   "execution_count": 45,
   "metadata": {},
   "outputs": [
    {
     "data": {
      "text/plain": [
       "False"
      ]
     },
     "execution_count": 45,
     "metadata": {},
     "output_type": "execute_result"
    }
   ],
   "source": [
    "(5>2) and (5==2)"
   ]
  },
  {
   "cell_type": "code",
   "execution_count": 46,
   "metadata": {},
   "outputs": [
    {
     "data": {
      "text/plain": [
       "True"
      ]
     },
     "execution_count": 46,
     "metadata": {},
     "output_type": "execute_result"
    }
   ],
   "source": [
    "(5>2) or (5==2)"
   ]
  },
  {
   "cell_type": "code",
   "execution_count": 47,
   "metadata": {},
   "outputs": [
    {
     "data": {
      "text/plain": [
       "True"
      ]
     },
     "execution_count": 47,
     "metadata": {},
     "output_type": "execute_result"
    }
   ],
   "source": [
    "not(5==2)"
   ]
  },
  {
   "cell_type": "code",
   "execution_count": 48,
   "metadata": {},
   "outputs": [
    {
     "data": {
      "text/plain": [
       "True"
      ]
     },
     "execution_count": 48,
     "metadata": {},
     "output_type": "execute_result"
    }
   ],
   "source": [
    "5!=2"
   ]
  },
  {
   "cell_type": "code",
   "execution_count": 49,
   "metadata": {},
   "outputs": [
    {
     "data": {
      "text/plain": [
       "True"
      ]
     },
     "execution_count": 49,
     "metadata": {},
     "output_type": "execute_result"
    }
   ],
   "source": [
    "5>2 or 5==2"
   ]
  },
  {
   "cell_type": "code",
   "execution_count": 50,
   "metadata": {},
   "outputs": [],
   "source": [
    "#double == sign means we are comparinf L.H.S TO R.H.S  and single = sign indicates that we are asigning R.H.S to L.H.S"
   ]
  },
  {
   "cell_type": "code",
   "execution_count": 51,
   "metadata": {},
   "outputs": [],
   "source": [
    "#MULTIPLE ASSIGNMENT"
   ]
  },
  {
   "cell_type": "code",
   "execution_count": 53,
   "metadata": {},
   "outputs": [
    {
     "name": "stdout",
     "output_type": "stream",
     "text": [
      "0 1\n"
     ]
    }
   ],
   "source": [
    "a=0\n",
    "b=1\n",
    "print(a,b)"
   ]
  },
  {
   "cell_type": "code",
   "execution_count": 55,
   "metadata": {},
   "outputs": [
    {
     "name": "stdout",
     "output_type": "stream",
     "text": [
      "2 3\n"
     ]
    }
   ],
   "source": [
    "c,d=2,3\n",
    "print(c,d)  #this is multiple assignment"
   ]
  },
  {
   "cell_type": "code",
   "execution_count": 57,
   "metadata": {},
   "outputs": [
    {
     "name": "stdout",
     "output_type": "stream",
     "text": [
      "1 1\n"
     ]
    }
   ],
   "source": [
    "a,b=0,1\n",
    "a,b=b,a+b\n",
    "print(a,b)"
   ]
  },
  {
   "cell_type": "code",
   "execution_count": 58,
   "metadata": {},
   "outputs": [
    {
     "name": "stdout",
     "output_type": "stream",
     "text": [
      "2 3\n"
     ]
    }
   ],
   "source": [
    "a,b=1,2\n",
    "a,b=b,a+b\n",
    "print(a,b)"
   ]
  },
  {
   "cell_type": "markdown",
   "metadata": {},
   "source": [
    "### Import"
   ]
  },
  {
   "cell_type": "code",
   "execution_count": 60,
   "metadata": {},
   "outputs": [],
   "source": [
    "#python math library provides many standard math functions\n",
    "#https://docs.python.org/3/library/math.html\n",
    "#above link for math lib functions used in py."
   ]
  },
  {
   "cell_type": "code",
   "execution_count": 3,
   "metadata": {},
   "outputs": [
    {
     "name": "stdout",
     "output_type": "stream",
     "text": [
      "1\n"
     ]
    }
   ],
   "source": [
    "import math\n",
    "a=2\n",
    "b=3\n",
    "print(round(a/b)) #round to nearest integer"
   ]
  },
  {
   "cell_type": "code",
   "execution_count": 65,
   "metadata": {},
   "outputs": [
    {
     "name": "stdout",
     "output_type": "stream",
     "text": [
      "0\n"
     ]
    }
   ],
   "source": [
    "print(math.floor(a/b)) #quotient"
   ]
  },
  {
   "cell_type": "code",
   "execution_count": 68,
   "metadata": {},
   "outputs": [
    {
     "name": "stdout",
     "output_type": "stream",
     "text": [
      "1\n"
     ]
    }
   ],
   "source": [
    "print(math.ceil(a/b)) # ceil - a/b=0.66 so it consider integer which is >0 "
   ]
  },
  {
   "cell_type": "code",
   "execution_count": 69,
   "metadata": {},
   "outputs": [
    {
     "name": "stdout",
     "output_type": "stream",
     "text": [
      "8\n"
     ]
    }
   ],
   "source": [
    "print(pow(a,b))"
   ]
  },
  {
   "cell_type": "code",
   "execution_count": 4,
   "metadata": {},
   "outputs": [
    {
     "name": "stdout",
     "output_type": "stream",
     "text": [
      "8.0\n"
     ]
    }
   ],
   "source": [
    "print(math.pow(a,b))"
   ]
  },
  {
   "cell_type": "code",
   "execution_count": 70,
   "metadata": {},
   "outputs": [
    {
     "name": "stdout",
     "output_type": "stream",
     "text": [
      "0.6666666666666666\n"
     ]
    }
   ],
   "source": [
    "print(abs(a/b))"
   ]
  },
  {
   "cell_type": "code",
   "execution_count": 72,
   "metadata": {},
   "outputs": [
    {
     "name": "stdout",
     "output_type": "stream",
     "text": [
      "1\n"
     ]
    }
   ],
   "source": [
    "print(abs(a-b)) # used to get absolute value "
   ]
  },
  {
   "cell_type": "code",
   "execution_count": 73,
   "metadata": {},
   "outputs": [
    {
     "data": {
      "text/plain": [
       "1.4142135623730951"
      ]
     },
     "execution_count": 73,
     "metadata": {},
     "output_type": "execute_result"
    }
   ],
   "source": [
    "math.sqrt(a)"
   ]
  },
  {
   "cell_type": "code",
   "execution_count": 75,
   "metadata": {},
   "outputs": [
    {
     "data": {
      "text/plain": [
       "1.4142135623730951"
      ]
     },
     "execution_count": 75,
     "metadata": {},
     "output_type": "execute_result"
    }
   ],
   "source": [
    "pow(a,0.5) # pow of 0.5 and sqrt acts same"
   ]
  },
  {
   "cell_type": "code",
   "execution_count": 84,
   "metadata": {},
   "outputs": [
    {
     "data": {
      "text/plain": [
       "1.41"
      ]
     },
     "execution_count": 84,
     "metadata": {},
     "output_type": "execute_result"
    }
   ],
   "source": [
    "round(math.pow(a,0.5),2)"
   ]
  },
  {
   "cell_type": "code",
   "execution_count": 5,
   "metadata": {},
   "outputs": [
    {
     "data": {
      "text/plain": [
       "1.41"
      ]
     },
     "execution_count": 5,
     "metadata": {},
     "output_type": "execute_result"
    }
   ],
   "source": [
    "round(pow(a,0.5),2)"
   ]
  },
  {
   "cell_type": "code",
   "execution_count": 7,
   "metadata": {},
   "outputs": [
    {
     "data": {
      "text/plain": [
       "1.4142135623730951"
      ]
     },
     "execution_count": 7,
     "metadata": {},
     "output_type": "execute_result"
    }
   ],
   "source": [
    "math.sqrt(a)"
   ]
  },
  {
   "cell_type": "code",
   "execution_count": 82,
   "metadata": {},
   "outputs": [
    {
     "name": "stdout",
     "output_type": "stream",
     "text": [
      "5.0\n",
      "9\n"
     ]
    }
   ],
   "source": [
    "var1=5\n",
    "var2=2\n",
    "var3=2\n",
    "var4=math.sqrt(pow(var1,var2))\n",
    "var5=pow(var1-var2,var3)\n",
    "print(var4)\n",
    "print(var5)"
   ]
  },
  {
   "cell_type": "markdown",
   "metadata": {},
   "source": [
    "# EXERCISE SET-1"
   ]
  },
  {
   "cell_type": "code",
   "execution_count": 83,
   "metadata": {},
   "outputs": [
    {
     "name": "stdout",
     "output_type": "stream",
     "text": [
      "euro=  50\n",
      "dollar=  55.5\n"
     ]
    }
   ],
   "source": [
    "import math\n",
    "euro=50\n",
    "conversion=1.11*(euro)\n",
    "dollar=round(conversion,2)\n",
    "print(\"euro= \",euro)\n",
    "print(\"dollar= \",dollar)\n"
   ]
  },
  {
   "cell_type": "code",
   "execution_count": 88,
   "metadata": {},
   "outputs": [
    {
     "name": "stdout",
     "output_type": "stream",
     "text": [
      "billed amount= 500\n",
      "tip= 0.2\n",
      "total= 600.0\n"
     ]
    }
   ],
   "source": [
    "billed_amount=500\n",
    "tip=0.20\n",
    "total=billed_amount*(1+tip)\n",
    "print(\"billed amount=\",billed_amount)\n",
    "print(\"tip=\", tip)\n",
    "print(\"total=\",total)"
   ]
  },
  {
   "cell_type": "code",
   "execution_count": 93,
   "metadata": {},
   "outputs": [
    {
     "name": "stdout",
     "output_type": "stream",
     "text": [
      "circum= 31.42\n",
      "area= 78.54\n"
     ]
    }
   ],
   "source": [
    "radius=5\n",
    "cirumference=(2*math.pi*radius)\n",
    "area=(math.pi)*(radius**2)\n",
    "print(\"circum=\",round(cirumference,2))\n",
    "print(\"area=\",round(area,2))\n"
   ]
  },
  {
   "cell_type": "code",
   "execution_count": 97,
   "metadata": {},
   "outputs": [
    {
     "name": "stdout",
     "output_type": "stream",
     "text": [
      "number=  11\n",
      "remainder = 1\n",
      "is the number even?  False\n"
     ]
    }
   ],
   "source": [
    "a=11\n",
    "remainder=a%2\n",
    "iseven=(remainder==0)\n",
    "print(\"number= \", a)\n",
    "print(\"remainder =\", remainder)\n",
    "print(\"is the number even? \", iseven)  # check this"
   ]
  },
  {
   "cell_type": "code",
   "execution_count": 98,
   "metadata": {},
   "outputs": [
    {
     "name": "stdout",
     "output_type": "stream",
     "text": [
      "number=  100\n",
      "remainder = 0\n",
      "is the number even?  True\n"
     ]
    }
   ],
   "source": [
    "a=100\n",
    "remainder=a%2\n",
    "iseven=(remainder==0)\n",
    "print(\"number= \", a)\n",
    "print(\"remainder =\", remainder)\n",
    "print(\"is the number even? \", iseven)"
   ]
  },
  {
   "cell_type": "code",
   "execution_count": 101,
   "metadata": {},
   "outputs": [
    {
     "name": "stdout",
     "output_type": "stream",
     "text": [
      "number of 20's requires=  12\n",
      "number of 10's requires=  1\n",
      "number of 5's requires=  1\n",
      "number of 1's requires=  4\n"
     ]
    }
   ],
   "source": [
    "amount=259\n",
    "a=amount//20\n",
    "b=amount-(a*20)\n",
    "c=b//10\n",
    "d=amount-(a*20)-(c*10)\n",
    "e=d//5\n",
    "f=amount-(a*20)-(c*10)-(e*5)\n",
    "print(\"number of 20's requires= \", a)\n",
    "print(\"number of 10's requires= \", c)\n",
    "print(\"number of 5's requires= \", e)\n",
    "print(\"number of 1's requires= \", f)"
   ]
  },
  {
   "cell_type": "markdown",
   "metadata": {},
   "source": [
    "# DATA STRUCTURES"
   ]
  },
  {
   "cell_type": "code",
   "execution_count": 260,
   "metadata": {},
   "outputs": [],
   "source": [
    "#6 TYPES OF DATA STRUCTURES IN PYTHON\n",
    "#1st 4 belongs to sequence type- these are indexable by number -the 4 are lists,range,tuples,strings\n",
    "#immutable and mutable sequence\n",
    "#IMMUTABLE== we cannot change value once assigned eg:strings,tuples,ranges\n",
    "#mutable==eg:lists - we can change value after assigning\n",
    "#SETS- unordered collection-no duplicates-sets cannot be indexed\n",
    "#DICTIONARIES- 6th type of DS that python allows- dic are indexed by keys, keys are immutable, \n",
    "##and must be unique within a dic"
   ]
  },
  {
   "cell_type": "markdown",
   "metadata": {},
   "source": [
    "# STRINGS"
   ]
  },
  {
   "cell_type": "markdown",
   "metadata": {},
   "source": [
    "### Concatinating a string can be done in 3 ways"
   ]
  },
  {
   "cell_type": "code",
   "execution_count": 106,
   "metadata": {},
   "outputs": [
    {
     "name": "stdout",
     "output_type": "stream",
     "text": [
      "left string right string\n"
     ]
    }
   ],
   "source": [
    "print(\"left string \"+\"right string\")"
   ]
  },
  {
   "cell_type": "code",
   "execution_count": 108,
   "metadata": {},
   "outputs": [
    {
     "name": "stdout",
     "output_type": "stream",
     "text": [
      "left string right string\n"
     ]
    }
   ],
   "source": [
    "lstring=\"left string \"\n",
    "rstring=\"right string\"\n",
    "tot_string=lstring+rstring\n",
    "print(tot_string)"
   ]
  },
  {
   "cell_type": "code",
   "execution_count": 110,
   "metadata": {},
   "outputs": [
    {
     "name": "stdout",
     "output_type": "stream",
     "text": [
      "repeat...repeat...repeat...\n"
     ]
    }
   ],
   "source": [
    "print(\"repeat...\"*3)"
   ]
  },
  {
   "cell_type": "markdown",
   "metadata": {},
   "source": [
    "### Indexing"
   ]
  },
  {
   "cell_type": "code",
   "execution_count": 117,
   "metadata": {},
   "outputs": [
    {
     "name": "stdout",
     "output_type": "stream",
     "text": [
      "p\n",
      "y\n",
      "t\n",
      "h\n",
      "o\n",
      "n\n"
     ]
    }
   ],
   "source": [
    "word=\"python\"\n",
    "print(word[0])\n",
    "print(word[1])\n",
    "print(word[2])\n",
    "print(word[3])\n",
    "print(word[4])\n",
    "print(word[5])"
   ]
  },
  {
   "cell_type": "code",
   "execution_count": null,
   "metadata": {},
   "outputs": [],
   "source": [
    "#counting right to left"
   ]
  },
  {
   "cell_type": "code",
   "execution_count": 116,
   "metadata": {},
   "outputs": [
    {
     "name": "stdout",
     "output_type": "stream",
     "text": [
      "n\n",
      "o\n",
      "h\n",
      "t\n",
      "y\n",
      "p\n"
     ]
    }
   ],
   "source": [
    "print(word[-1])\n",
    "print(word[-2])\n",
    "print(word[-3])\n",
    "print(word[-4])\n",
    "print(word[-5])\n",
    "print(word[-6])"
   ]
  },
  {
   "cell_type": "markdown",
   "metadata": {},
   "source": [
    "### Slicing"
   ]
  },
  {
   "cell_type": "code",
   "execution_count": 123,
   "metadata": {},
   "outputs": [
    {
     "name": "stdout",
     "output_type": "stream",
     "text": [
      "py\n",
      "python\n",
      "thon\n",
      "h\n",
      "\n",
      "pyt\n",
      "hon\n"
     ]
    }
   ],
   "source": [
    "print(word[0:2])\n",
    "print(word[0:6])\n",
    "print(word[2:10])\n",
    "print(word[-3:-2])\n",
    "print(word[-3:-6]) #prints an empty string  start index<end index, else empty string will be returned\n",
    "print(word[-6:-3])\n",
    "print(word[-3:6])\n"
   ]
  },
  {
   "cell_type": "code",
   "execution_count": 127,
   "metadata": {},
   "outputs": [
    {
     "name": "stdout",
     "output_type": "stream",
     "text": [
      "py\n",
      "on\n",
      "py\n",
      "on\n",
      "python\n"
     ]
    }
   ],
   "source": [
    "print(word[:2])\n",
    "print(word[4:])\n",
    "print(word[0:2])\n",
    "print(word[-2:])\n",
    "print(word[:4]+word[4:])\n"
   ]
  },
  {
   "cell_type": "code",
   "execution_count": 131,
   "metadata": {},
   "outputs": [],
   "source": [
    "## python strings are immutable \n",
    "## attempting to assign to an index position will result in an error\n",
    "## if you need a diff string create a diff one"
   ]
  },
  {
   "cell_type": "code",
   "execution_count": 132,
   "metadata": {},
   "outputs": [
    {
     "data": {
      "text/plain": [
       "'python'"
      ]
     },
     "execution_count": 132,
     "metadata": {},
     "output_type": "execute_result"
    }
   ],
   "source": [
    "word"
   ]
  },
  {
   "cell_type": "code",
   "execution_count": 135,
   "metadata": {},
   "outputs": [
    {
     "ename": "TypeError",
     "evalue": "'str' object does not support item assignment",
     "output_type": "error",
     "traceback": [
      "\u001b[0;31m---------------------------------------------------------------------------\u001b[0m",
      "\u001b[0;31mTypeError\u001b[0m                                 Traceback (most recent call last)",
      "\u001b[0;32m<ipython-input-135-17558f33b631>\u001b[0m in \u001b[0;36m<module>\u001b[0;34m\u001b[0m\n\u001b[0;32m----> 1\u001b[0;31m \u001b[0mword\u001b[0m\u001b[0;34m[\u001b[0m\u001b[0;36m0\u001b[0m\u001b[0;34m]\u001b[0m\u001b[0;34m=\u001b[0m\u001b[0;34m\"j\"\u001b[0m\u001b[0;34m\u001b[0m\u001b[0;34m\u001b[0m\u001b[0m\n\u001b[0m",
      "\u001b[0;31mTypeError\u001b[0m: 'str' object does not support item assignment"
     ]
    }
   ],
   "source": [
    "word[0]=\"j\""
   ]
  },
  {
   "cell_type": "code",
   "execution_count": 130,
   "metadata": {},
   "outputs": [
    {
     "name": "stdout",
     "output_type": "stream",
     "text": [
      "jython\n"
     ]
    }
   ],
   "source": [
    "newword=\"j\"+word[1:]\n",
    "print(newword)"
   ]
  },
  {
   "cell_type": "code",
   "execution_count": 136,
   "metadata": {},
   "outputs": [
    {
     "name": "stdout",
     "output_type": "stream",
     "text": [
      "6\n"
     ]
    }
   ],
   "source": [
    "print(len(\"python\")) #to check length of a string"
   ]
  },
  {
   "cell_type": "code",
   "execution_count": 137,
   "metadata": {},
   "outputs": [
    {
     "data": {
      "text/plain": [
       "6"
      ]
     },
     "execution_count": 137,
     "metadata": {},
     "output_type": "execute_result"
    }
   ],
   "source": [
    "len(word)"
   ]
  },
  {
   "cell_type": "code",
   "execution_count": 138,
   "metadata": {},
   "outputs": [
    {
     "name": "stdout",
     "output_type": "stream",
     "text": [
      "True\n"
     ]
    }
   ],
   "source": [
    "print(\"th\" in \"python\") # to check if the substring exists in the string"
   ]
  },
  {
   "cell_type": "code",
   "execution_count": 140,
   "metadata": {},
   "outputs": [
    {
     "name": "stdout",
     "output_type": "stream",
     "text": [
      "2\n"
     ]
    }
   ],
   "source": [
    "print(\"python\".find(\"th\")) # to find index of substring in a string"
   ]
  },
  {
   "cell_type": "code",
   "execution_count": 144,
   "metadata": {},
   "outputs": [
    {
     "name": "stdout",
     "output_type": "stream",
     "text": [
      "False\n",
      "True\n",
      "True\n",
      "True\n"
     ]
    }
   ],
   "source": [
    "my_string= 'my name is nikita'\n",
    "print(my_string.startswith(\"ni\"))\n",
    "print(my_string.startswith(\"my\"))\n",
    "print(my_string.startswith(\"m\"))\n",
    "print(my_string.startswith(\"my n\"))  #to check if string starts with substring"
   ]
  },
  {
   "cell_type": "code",
   "execution_count": 147,
   "metadata": {},
   "outputs": [
    {
     "name": "stdout",
     "output_type": "stream",
     "text": [
      "False\n",
      "True\n"
     ]
    }
   ],
   "source": [
    "print(\"python\".endswith(\"py\"))\n",
    "print(my_string.endswith(\"a\"))  ##to check if string ends with substring"
   ]
  },
  {
   "cell_type": "code",
   "execution_count": 148,
   "metadata": {},
   "outputs": [
    {
     "data": {
      "text/plain": [
       "'python'"
      ]
     },
     "execution_count": 148,
     "metadata": {},
     "output_type": "execute_result"
    }
   ],
   "source": [
    "\"PYTHON\".lower()"
   ]
  },
  {
   "cell_type": "code",
   "execution_count": 149,
   "metadata": {},
   "outputs": [
    {
     "data": {
      "text/plain": [
       "'PYTHON'"
      ]
     },
     "execution_count": 149,
     "metadata": {},
     "output_type": "execute_result"
    }
   ],
   "source": [
    "\"python\".upper()"
   ]
  },
  {
   "cell_type": "code",
   "execution_count": 153,
   "metadata": {},
   "outputs": [
    {
     "name": "stdout",
     "output_type": "stream",
     "text": [
      "python\n",
      "PYTHON\n"
     ]
    }
   ],
   "source": [
    "a=\"python\"\n",
    "b=a.upper()\n",
    "print(a)\n",
    "print(b)"
   ]
  },
  {
   "cell_type": "code",
   "execution_count": 154,
   "metadata": {},
   "outputs": [
    {
     "data": {
      "text/plain": [
       "'python'"
      ]
     },
     "execution_count": 154,
     "metadata": {},
     "output_type": "execute_result"
    }
   ],
   "source": [
    "\"   python   \".strip()"
   ]
  },
  {
   "cell_type": "code",
   "execution_count": 156,
   "metadata": {},
   "outputs": [
    {
     "data": {
      "text/plain": [
       "'p  y  t  hon'"
      ]
     },
     "execution_count": 156,
     "metadata": {},
     "output_type": "execute_result"
    }
   ],
   "source": [
    "\"   p  y  t  hon\".strip()  #strip- removes leading and trailing spaces...doestnot removes spaces in betwn"
   ]
  },
  {
   "cell_type": "code",
   "execution_count": 158,
   "metadata": {},
   "outputs": [
    {
     "name": "stdout",
     "output_type": "stream",
     "text": [
      "['1', '2', '3', '4']\n"
     ]
    }
   ],
   "source": [
    "print(\"1,2,3,4\".split(\",\")) #we can split a string using specified charachter as delimiter"
   ]
  },
  {
   "cell_type": "code",
   "execution_count": 160,
   "metadata": {},
   "outputs": [
    {
     "data": {
      "text/plain": [
       "'nikita,nikita,nikita'"
      ]
     },
     "execution_count": 160,
     "metadata": {},
     "output_type": "execute_result"
    }
   ],
   "source": [
    "a=(\"nikita\",\"nikita\",\"nikita\")\n",
    "sep=\",\"\n",
    "sep.join(a)    #joins sep to a"
   ]
  },
  {
   "cell_type": "code",
   "execution_count": 161,
   "metadata": {},
   "outputs": [
    {
     "name": "stdout",
     "output_type": "stream",
     "text": [
      "['there ', ' are ', ' four ', ' lines']\n"
     ]
    }
   ],
   "source": [
    "print(\"there \\n are \\n four \\n lines\".splitlines())"
   ]
  },
  {
   "cell_type": "code",
   "execution_count": 12,
   "metadata": {},
   "outputs": [
    {
     "name": "stdout",
     "output_type": "stream",
     "text": [
      "there \n",
      " are \n",
      " four \n",
      " lines\n"
     ]
    }
   ],
   "source": [
    "print(\"there \\n are \\n four \\n lines\")"
   ]
  },
  {
   "cell_type": "code",
   "execution_count": 13,
   "metadata": {},
   "outputs": [],
   "source": [
    "## remove - removes 1st element with the condition\n",
    "## del - deletes the variable"
   ]
  },
  {
   "cell_type": "code",
   "execution_count": 15,
   "metadata": {},
   "outputs": [
    {
     "name": "stdout",
     "output_type": "stream",
     "text": [
      "[10, 20, 30, 100]\n"
     ]
    }
   ],
   "source": [
    "lst=[100,10,20,30,100]\n",
    "lst.remove(100)\n",
    "print(lst)"
   ]
  },
  {
   "cell_type": "markdown",
   "metadata": {},
   "source": [
    "#### TEST"
   ]
  },
  {
   "cell_type": "code",
   "execution_count": 163,
   "metadata": {},
   "outputs": [
    {
     "name": "stdout",
     "output_type": "stream",
     "text": [
      "17\n",
      "CIS 509\n",
      "CIS 509 Classroom\n",
      "CIS 509 Classroom\n",
      "\n",
      "Classroom\n"
     ]
    }
   ],
   "source": [
    "myword=\"CIS 509 Classroom\"\n",
    "print(len(myword))\n",
    "print(myword[0:7])\n",
    "print(myword[:6]+myword[6:])\n",
    "print(myword[:100])\n",
    "print(myword[100:-5])\n",
    "print(myword[-9:100])"
   ]
  },
  {
   "cell_type": "markdown",
   "metadata": {},
   "source": [
    "### LISTS"
   ]
  },
  {
   "cell_type": "code",
   "execution_count": null,
   "metadata": {},
   "outputs": [],
   "source": [
    "# LISTS ARE mutable sequences typically used to store collection of homogenous items. lists are indexed by no's\n",
    "#eg:[a,b,c,d]"
   ]
  },
  {
   "cell_type": "code",
   "execution_count": null,
   "metadata": {},
   "outputs": [],
   "source": [
    "listpeople=[\"tom\",\"harry\",\"jane\",\"liz\"]\n",
    "listflowers=[\"rose\",\"lily\",\"tulip\",\"lantana\"]\n",
    "listpets=[\"cat\",\"turtle\",\"goat\",\"dog\"]\n",
    "listnumfriends=[21,33,10,51]\n",
    "listatypical=[1,\"cat\",0*45,567]\n",
    "print(\"list people:        \",listpeople)\n",
    "print(\"listflowers:        \",listflowers)\n",
    "print(\"listpets:        \",listpets)\n",
    "print(\"listnumfriends:        \",listnumfriends)\n",
    "print(\"listatypical:        \",listatypical)\n"
   ]
  },
  {
   "cell_type": "code",
   "execution_count": null,
   "metadata": {},
   "outputs": [],
   "source": [
    "listconcat=listpeople+listpets\n",
    "print(\"listconcat=    \",listconcat)"
   ]
  },
  {
   "cell_type": "code",
   "execution_count": 176,
   "metadata": {},
   "outputs": [
    {
     "data": {
      "text/plain": [
       "4"
      ]
     },
     "execution_count": 176,
     "metadata": {},
     "output_type": "execute_result"
    }
   ],
   "source": [
    "len(listpeople)"
   ]
  },
  {
   "cell_type": "code",
   "execution_count": 177,
   "metadata": {},
   "outputs": [
    {
     "name": "stdout",
     "output_type": "stream",
     "text": [
      "['tom', 'harry', 'jane', 'liz']\n"
     ]
    }
   ],
   "source": [
    "print(listpeople)"
   ]
  },
  {
   "cell_type": "code",
   "execution_count": 171,
   "metadata": {},
   "outputs": [
    {
     "data": {
      "text/plain": [
       "'jane'"
      ]
     },
     "execution_count": 171,
     "metadata": {},
     "output_type": "execute_result"
    }
   ],
   "source": [
    "listpeople[2]"
   ]
  },
  {
   "cell_type": "code",
   "execution_count": 172,
   "metadata": {},
   "outputs": [
    {
     "data": {
      "text/plain": [
       "'harry'"
      ]
     },
     "execution_count": 172,
     "metadata": {},
     "output_type": "execute_result"
    }
   ],
   "source": [
    "listpeople[-3]"
   ]
  },
  {
   "cell_type": "code",
   "execution_count": 173,
   "metadata": {},
   "outputs": [
    {
     "data": {
      "text/plain": [
       "['jane', 'liz']"
      ]
     },
     "execution_count": 173,
     "metadata": {},
     "output_type": "execute_result"
    }
   ],
   "source": [
    "listpeople[2:]"
   ]
  },
  {
   "cell_type": "code",
   "execution_count": 174,
   "metadata": {},
   "outputs": [
    {
     "data": {
      "text/plain": [
       "'cat'"
      ]
     },
     "execution_count": 174,
     "metadata": {},
     "output_type": "execute_result"
    }
   ],
   "source": [
    "listpets[0]"
   ]
  },
  {
   "cell_type": "code",
   "execution_count": 175,
   "metadata": {},
   "outputs": [
    {
     "name": "stdout",
     "output_type": "stream",
     "text": [
      "['cat', 'turtle', 'goat', 'dog']\n"
     ]
    }
   ],
   "source": [
    "print(listpets)"
   ]
  },
  {
   "cell_type": "code",
   "execution_count": 179,
   "metadata": {},
   "outputs": [
    {
     "name": "stdout",
     "output_type": "stream",
     "text": [
      "['tyrex', 'turtle', 'goat', 'dog']\n"
     ]
    }
   ],
   "source": [
    "listpets[0]=\"tyrex\"\n",
    "print(listpets)   #assigning to an index"
   ]
  },
  {
   "cell_type": "code",
   "execution_count": 181,
   "metadata": {},
   "outputs": [
    {
     "name": "stdout",
     "output_type": "stream",
     "text": [
      "['python', 'elephant', 'goat', 'dog']\n"
     ]
    }
   ],
   "source": [
    "listpets[0:2]=[\"python\",\"elephant\"]\n",
    "print(listpets)     # assigning to a slice "
   ]
  },
  {
   "cell_type": "code",
   "execution_count": 182,
   "metadata": {},
   "outputs": [
    {
     "name": "stdout",
     "output_type": "stream",
     "text": [
      "['python', 'elephant']\n"
     ]
    }
   ],
   "source": [
    "listpets[2:4]=[]\n",
    "print(listpets) # delete a slice"
   ]
  },
  {
   "cell_type": "code",
   "execution_count": 187,
   "metadata": {},
   "outputs": [
    {
     "name": "stdout",
     "output_type": "stream",
     "text": [
      "['python', 'elephant', 'fox', 'fox', 'fox', 'fox']\n"
     ]
    }
   ],
   "source": [
    "#appending new item to the list\n",
    "listpets.append(\"fox\")\n",
    "print(listpets)"
   ]
  },
  {
   "cell_type": "code",
   "execution_count": 189,
   "metadata": {},
   "outputs": [
    {
     "name": "stdout",
     "output_type": "stream",
     "text": [
      "[]\n"
     ]
    }
   ],
   "source": [
    "listpets[:]=[]\n",
    "print(listpets)"
   ]
  },
  {
   "cell_type": "code",
   "execution_count": 191,
   "metadata": {},
   "outputs": [
    {
     "name": "stdout",
     "output_type": "stream",
     "text": [
      "['tom', 'harry', 'jane', 'liz']\n",
      "['tom', 'harry']\n"
     ]
    }
   ],
   "source": [
    "sublistpeople=listpeople[0:2]\n",
    "print(listpeople)\n",
    "print(sublistpeople)      #we can slice a list and assign it to another variable"
   ]
  },
  {
   "cell_type": "code",
   "execution_count": 203,
   "metadata": {},
   "outputs": [
    {
     "name": "stdout",
     "output_type": "stream",
     "text": [
      "['TOM', 'lily', 31]\n"
     ]
    }
   ],
   "source": [
    "listcompiled=[listpeople[0].upper(), (listflowers[1]).lower(), listnumfriends[0]+10]\n",
    "print(listcompiled)    #cancomiple single element from different lists and \n",
    "                       #can also apply different function to each element"
   ]
  },
  {
   "cell_type": "code",
   "execution_count": 195,
   "metadata": {},
   "outputs": [
    {
     "name": "stdout",
     "output_type": "stream",
     "text": [
      "[21, 33, 10, 51]\n"
     ]
    }
   ],
   "source": [
    "print(listnumfriends)"
   ]
  },
  {
   "cell_type": "code",
   "execution_count": 196,
   "metadata": {},
   "outputs": [
    {
     "name": "stdout",
     "output_type": "stream",
     "text": [
      "['tom', 'harry', 'jane', 'liz']\n"
     ]
    }
   ],
   "source": [
    "print(listpeople)"
   ]
  },
  {
   "cell_type": "code",
   "execution_count": 197,
   "metadata": {},
   "outputs": [
    {
     "name": "stdout",
     "output_type": "stream",
     "text": [
      "[]\n"
     ]
    }
   ],
   "source": [
    "print(listpets)"
   ]
  },
  {
   "cell_type": "code",
   "execution_count": 205,
   "metadata": {},
   "outputs": [
    {
     "name": "stdout",
     "output_type": "stream",
     "text": [
      "[['tom', 'harry', 'jane', 'liz'], ['rose', 'lily', 'tulip', 'lantana']]\n"
     ]
    }
   ],
   "source": [
    "listnested=[listpeople,listflowers]\n",
    "print(listnested)"
   ]
  },
  {
   "cell_type": "code",
   "execution_count": 209,
   "metadata": {},
   "outputs": [
    {
     "name": "stdout",
     "output_type": "stream",
     "text": [
      "['tom', 'harry', 'jane', 'liz', 'rose', 'lily', 'tulip', 'lantana']\n",
      "[['tom', 'harry', 'jane', 'liz', 'rose', 'lily', 'tulip', 'lantana']]\n"
     ]
    }
   ],
   "source": [
    "listcompiled=listpeople+listflowers\n",
    "listcompiled1=[listpeople+listflowers]\n",
    "print(listcompiled)\n",
    "print(listcompiled1)"
   ]
  },
  {
   "cell_type": "code",
   "execution_count": 210,
   "metadata": {},
   "outputs": [
    {
     "data": {
      "text/plain": [
       "['rose', 'lily', 'tulip', 'lantana']"
      ]
     },
     "execution_count": 210,
     "metadata": {},
     "output_type": "execute_result"
    }
   ],
   "source": [
    "listnested[1]    #nested index "
   ]
  },
  {
   "cell_type": "code",
   "execution_count": 211,
   "metadata": {},
   "outputs": [
    {
     "data": {
      "text/plain": [
       "'tulip'"
      ]
     },
     "execution_count": 211,
     "metadata": {},
     "output_type": "execute_result"
    }
   ],
   "source": [
    "#double indexing\n",
    "listnested[1][2]"
   ]
  },
  {
   "cell_type": "code",
   "execution_count": 213,
   "metadata": {},
   "outputs": [
    {
     "data": {
      "text/plain": [
       "'harry'"
      ]
     },
     "execution_count": 213,
     "metadata": {},
     "output_type": "execute_result"
    }
   ],
   "source": [
    "listnested[0][1]"
   ]
  },
  {
   "cell_type": "code",
   "execution_count": 443,
   "metadata": {},
   "outputs": [
    {
     "name": "stdout",
     "output_type": "stream",
     "text": [
      "[100, 200, 300]\n",
      "[5, 15, 25]\n",
      "[10, 50, 50, 20, 0, 10, 50]\n"
     ]
    }
   ],
   "source": [
    "list1=[100,200,300]\n",
    "list2=[5,15,25]\n",
    "list3=[10,50,50,20,0,10,50]\n",
    "print(list1)\n",
    "print(list2)\n",
    "print(list3)"
   ]
  },
  {
   "cell_type": "code",
   "execution_count": 215,
   "metadata": {},
   "outputs": [],
   "source": [
    "list1.append(-400)"
   ]
  },
  {
   "cell_type": "code",
   "execution_count": 216,
   "metadata": {},
   "outputs": [
    {
     "name": "stdout",
     "output_type": "stream",
     "text": [
      "[100, 200, 300, -400]\n"
     ]
    }
   ],
   "source": [
    "print(list1)"
   ]
  },
  {
   "cell_type": "code",
   "execution_count": 217,
   "metadata": {},
   "outputs": [
    {
     "name": "stdout",
     "output_type": "stream",
     "text": [
      "[5, 15, 25, 100, 200, 300, -400]\n"
     ]
    }
   ],
   "source": [
    "list2.extend(list1)\n",
    "print(list2)     #extend list2 by appending all items from list1"
   ]
  },
  {
   "cell_type": "code",
   "execution_count": 218,
   "metadata": {},
   "outputs": [],
   "source": [
    "list3.append(list1[0])"
   ]
  },
  {
   "cell_type": "code",
   "execution_count": 219,
   "metadata": {},
   "outputs": [
    {
     "name": "stdout",
     "output_type": "stream",
     "text": [
      "[10, 50, 50, 20, 0, 10, 50, 100]\n"
     ]
    }
   ],
   "source": [
    "print(list3)"
   ]
  },
  {
   "cell_type": "code",
   "execution_count": 220,
   "metadata": {},
   "outputs": [
    {
     "name": "stdout",
     "output_type": "stream",
     "text": [
      "[5, 15, 25, -400, 100, 200, 300, -400]\n"
     ]
    }
   ],
   "source": [
    "list2.insert(3,-400)\n",
    "print(list2)   #take list 2 and insert the value -400 @ index position 3"
   ]
  },
  {
   "cell_type": "code",
   "execution_count": 221,
   "metadata": {},
   "outputs": [
    {
     "name": "stdout",
     "output_type": "stream",
     "text": [
      "[5, 15, 25, 100, 200, 300, -400]\n"
     ]
    }
   ],
   "source": [
    "list2.remove(-400)\n",
    "print(list2)"
   ]
  },
  {
   "cell_type": "code",
   "execution_count": 229,
   "metadata": {},
   "outputs": [
    {
     "name": "stdout",
     "output_type": "stream",
     "text": [
      "[5, 15, 25, 100, 200, 300, -400]\n"
     ]
    }
   ],
   "source": [
    "list2.extend(list1)\n",
    "print(list2)"
   ]
  },
  {
   "cell_type": "code",
   "execution_count": 230,
   "metadata": {},
   "outputs": [
    {
     "name": "stdout",
     "output_type": "stream",
     "text": [
      "[5, 15, 25, 100, 200, 300, -400]\n",
      "[5, 15, 25, 200, 300, -400]\n"
     ]
    }
   ],
   "source": [
    "print(list2)\n",
    "del list2[3]\n",
    "print(list2)"
   ]
  },
  {
   "cell_type": "code",
   "execution_count": 231,
   "metadata": {},
   "outputs": [
    {
     "data": {
      "text/plain": [
       "-400"
      ]
     },
     "execution_count": 231,
     "metadata": {},
     "output_type": "execute_result"
    }
   ],
   "source": [
    "list2.pop()"
   ]
  },
  {
   "cell_type": "code",
   "execution_count": 232,
   "metadata": {},
   "outputs": [
    {
     "name": "stdout",
     "output_type": "stream",
     "text": [
      "[5, 15, 25, 200, 300]\n"
     ]
    }
   ],
   "source": [
    "print(list2)"
   ]
  },
  {
   "cell_type": "code",
   "execution_count": 235,
   "metadata": {},
   "outputs": [
    {
     "name": "stdout",
     "output_type": "stream",
     "text": [
      "300\n",
      "[5, 15, 25, 200]\n"
     ]
    }
   ],
   "source": [
    "print(list2.pop())\n",
    "print(list2)"
   ]
  },
  {
   "cell_type": "code",
   "execution_count": 236,
   "metadata": {},
   "outputs": [
    {
     "name": "stdout",
     "output_type": "stream",
     "text": [
      "[10, 50, 50, 20, 0, 10, 50, 100]\n"
     ]
    }
   ],
   "source": [
    "print(list3)"
   ]
  },
  {
   "cell_type": "code",
   "execution_count": 237,
   "metadata": {},
   "outputs": [
    {
     "name": "stdout",
     "output_type": "stream",
     "text": [
      "1\n"
     ]
    }
   ],
   "source": [
    "print(list3.index(50))"
   ]
  },
  {
   "cell_type": "code",
   "execution_count": 245,
   "metadata": {},
   "outputs": [
    {
     "name": "stdout",
     "output_type": "stream",
     "text": [
      "3\n"
     ]
    }
   ],
   "source": [
    "print(list3.count(50))"
   ]
  },
  {
   "cell_type": "code",
   "execution_count": 17,
   "metadata": {},
   "outputs": [
    {
     "name": "stdout",
     "output_type": "stream",
     "text": [
      "[10, 20, 30]\n"
     ]
    }
   ],
   "source": [
    "# changing tupple to list \n",
    "tup=(10,20,30)\n",
    "lst=list(tup)\n",
    "print(lst)"
   ]
  },
  {
   "cell_type": "code",
   "execution_count": 248,
   "metadata": {},
   "outputs": [
    {
     "name": "stdout",
     "output_type": "stream",
     "text": [
      "[100, 50, 10, 0, 20, 50, 50, 10]\n"
     ]
    }
   ],
   "source": [
    "list3.reverse()\n",
    "print(list3)"
   ]
  },
  {
   "cell_type": "code",
   "execution_count": 253,
   "metadata": {},
   "outputs": [
    {
     "name": "stdout",
     "output_type": "stream",
     "text": [
      "None\n"
     ]
    }
   ],
   "source": [
    "print(list3.reverse())"
   ]
  },
  {
   "cell_type": "markdown",
   "metadata": {},
   "source": [
    "###  ........................................................"
   ]
  },
  {
   "cell_type": "code",
   "execution_count": 250,
   "metadata": {},
   "outputs": [
    {
     "name": "stdout",
     "output_type": "stream",
     "text": [
      "[0, 10, 10, 20, 50, 50, 50, 100]\n"
     ]
    }
   ],
   "source": [
    "list3.sort()\n",
    "print(list3)"
   ]
  },
  {
   "cell_type": "code",
   "execution_count": 445,
   "metadata": {},
   "outputs": [
    {
     "name": "stdout",
     "output_type": "stream",
     "text": [
      "[50, 10, 0, 20, 50, 50, 10]\n"
     ]
    }
   ],
   "source": [
    "list3.reverse()\n",
    "print(list3)"
   ]
  },
  {
   "cell_type": "code",
   "execution_count": 257,
   "metadata": {},
   "outputs": [
    {
     "name": "stdout",
     "output_type": "stream",
     "text": [
      "[]\n"
     ]
    }
   ],
   "source": [
    "list3.clear()\n",
    "print(list3)"
   ]
  },
  {
   "cell_type": "code",
   "execution_count": 258,
   "metadata": {},
   "outputs": [],
   "source": [
    "del list3"
   ]
  },
  {
   "cell_type": "markdown",
   "metadata": {},
   "source": [
    "#### TEST"
   ]
  },
  {
   "cell_type": "code",
   "execution_count": 1,
   "metadata": {},
   "outputs": [],
   "source": [
    "mystring=\"CIS 509\"\n",
    "mylist1=[\"CIS\",\"509\"]\n",
    "mylist2=[\"CIS\",\"SCM\",\"BDA\"]"
   ]
  },
  {
   "cell_type": "code",
   "execution_count": 4,
   "metadata": {},
   "outputs": [
    {
     "name": "stdout",
     "output_type": "stream",
     "text": [
      "I\n",
      "509\n",
      "SCM\n",
      "['CIS', '509']\n",
      "5\n"
     ]
    },
    {
     "ename": "TypeError",
     "evalue": "'str' object does not support item assignment",
     "output_type": "error",
     "traceback": [
      "\u001b[0;31m---------------------------------------------------------------------------\u001b[0m",
      "\u001b[0;31mTypeError\u001b[0m                                 Traceback (most recent call last)",
      "\u001b[0;32m<ipython-input-4-310e531c5230>\u001b[0m in \u001b[0;36m<module>\u001b[0;34m\u001b[0m\n\u001b[1;32m      5\u001b[0m \u001b[0mprint\u001b[0m\u001b[0;34m(\u001b[0m\u001b[0mmystring\u001b[0m\u001b[0;34m[\u001b[0m\u001b[0;36m4\u001b[0m\u001b[0;34m]\u001b[0m\u001b[0;34m)\u001b[0m\u001b[0;34m\u001b[0m\u001b[0;34m\u001b[0m\u001b[0m\n\u001b[1;32m      6\u001b[0m \u001b[0mmystring\u001b[0m\u001b[0;34m[\u001b[0m\u001b[0;36m4\u001b[0m\u001b[0;34m]\u001b[0m\u001b[0;34m==\u001b[0m\u001b[0;34m\"5\"\u001b[0m\u001b[0;34m\u001b[0m\u001b[0;34m\u001b[0m\u001b[0m\n\u001b[0;32m----> 7\u001b[0;31m \u001b[0mmystring\u001b[0m\u001b[0;34m[\u001b[0m\u001b[0;36m4\u001b[0m\u001b[0;34m]\u001b[0m\u001b[0;34m=\u001b[0m\u001b[0;34m\"5\"\u001b[0m\u001b[0;34m\u001b[0m\u001b[0;34m\u001b[0m\u001b[0m\n\u001b[0m",
      "\u001b[0;31mTypeError\u001b[0m: 'str' object does not support item assignment"
     ]
    }
   ],
   "source": [
    "print(mystring[1])\n",
    "print(mylist1[1])\n",
    "print(mylist2[-2])\n",
    "print(mylist1)\n",
    "print(mystring[4])\n",
    "mystring[4]==\"5\"\n",
    "mystring[4]=\"5\""
   ]
  },
  {
   "cell_type": "code",
   "execution_count": 267,
   "metadata": {},
   "outputs": [
    {
     "data": {
      "text/plain": [
       "['CIS', 'SCM', 'BDA', 'mktg']"
      ]
     },
     "execution_count": 267,
     "metadata": {},
     "output_type": "execute_result"
    }
   ],
   "source": [
    "mylist2.append(\"mktg\")\n",
    "mylist2"
   ]
  },
  {
   "cell_type": "markdown",
   "metadata": {},
   "source": [
    "# TUPLES"
   ]
  },
  {
   "cell_type": "code",
   "execution_count": null,
   "metadata": {},
   "outputs": [],
   "source": [
    "# TUPLES are immutable sequences, typically used to store collections of heterogenous data, or for cases where an \n",
    "#immutable sequence of homogenous data is needed. they can be indexed. "
   ]
  },
  {
   "cell_type": "code",
   "execution_count": 271,
   "metadata": {},
   "outputs": [
    {
     "name": "stdout",
     "output_type": "stream",
     "text": [
      "tuple1= () , 0\n"
     ]
    }
   ],
   "source": [
    "tuple1=()\n",
    "print(\"tuple1=\", tuple1,\",\",len(tuple1))"
   ]
  },
  {
   "cell_type": "code",
   "execution_count": 272,
   "metadata": {},
   "outputs": [],
   "source": [
    "#singleton tuples must have a trailing comma"
   ]
  },
  {
   "cell_type": "code",
   "execution_count": 277,
   "metadata": {},
   "outputs": [
    {
     "name": "stdout",
     "output_type": "stream",
     "text": [
      "tuple3= (1,) 1\n"
     ]
    }
   ],
   "source": [
    "#example:\n",
    "tuple3=(1,)\n",
    "print(\"tuple3=\", tuple3,len(tuple3))\n",
    "\n"
   ]
  },
  {
   "cell_type": "code",
   "execution_count": 278,
   "metadata": {},
   "outputs": [
    {
     "ename": "TypeError",
     "evalue": "object of type 'int' has no len()",
     "output_type": "error",
     "traceback": [
      "\u001b[0;31m---------------------------------------------------------------------------\u001b[0m",
      "\u001b[0;31mTypeError\u001b[0m                                 Traceback (most recent call last)",
      "\u001b[0;32m<ipython-input-278-65209bfb5c60>\u001b[0m in \u001b[0;36m<module>\u001b[0;34m\u001b[0m\n\u001b[1;32m      1\u001b[0m \u001b[0;31m#example with out a comma in tuple\u001b[0m\u001b[0;34m\u001b[0m\u001b[0;34m\u001b[0m\u001b[0;34m\u001b[0m\u001b[0m\n\u001b[1;32m      2\u001b[0m \u001b[0mtuple4\u001b[0m\u001b[0;34m=\u001b[0m\u001b[0;34m(\u001b[0m\u001b[0;36m1\u001b[0m\u001b[0;34m)\u001b[0m\u001b[0;34m\u001b[0m\u001b[0;34m\u001b[0m\u001b[0m\n\u001b[0;32m----> 3\u001b[0;31m \u001b[0mprint\u001b[0m\u001b[0;34m(\u001b[0m\u001b[0;34m\"tuple4=\"\u001b[0m\u001b[0;34m,\u001b[0m \u001b[0mtuple4\u001b[0m\u001b[0;34m,\u001b[0m\u001b[0mlen\u001b[0m\u001b[0;34m(\u001b[0m\u001b[0mtuple4\u001b[0m\u001b[0;34m)\u001b[0m\u001b[0;34m)\u001b[0m\u001b[0;34m\u001b[0m\u001b[0;34m\u001b[0m\u001b[0m\n\u001b[0m",
      "\u001b[0;31mTypeError\u001b[0m: object of type 'int' has no len()"
     ]
    }
   ],
   "source": [
    "#example with out a comma in tuple\n",
    "tuple4=(1)\n",
    "print(\"tuple4=\", tuple4,len(tuple4))"
   ]
  },
  {
   "cell_type": "code",
   "execution_count": 279,
   "metadata": {},
   "outputs": [],
   "source": [
    "# we get an error since it is a singleton tuple we need to place a comma after the element in the tuple"
   ]
  },
  {
   "cell_type": "code",
   "execution_count": 281,
   "metadata": {},
   "outputs": [
    {
     "name": "stdout",
     "output_type": "stream",
     "text": [
      "tuple5=  (1, 2, 3) 3\n"
     ]
    }
   ],
   "source": [
    "tuple5=(1,2,3)\n",
    "print(\"tuple5= \", tuple5,len(tuple5))"
   ]
  },
  {
   "cell_type": "code",
   "execution_count": 282,
   "metadata": {},
   "outputs": [
    {
     "name": "stdout",
     "output_type": "stream",
     "text": [
      "1 2 3\n"
     ]
    }
   ],
   "source": [
    "print(tuple5[0],tuple5[1],tuple5[2])"
   ]
  },
  {
   "cell_type": "code",
   "execution_count": 283,
   "metadata": {},
   "outputs": [
    {
     "data": {
      "text/plain": [
       "(1, 2)"
      ]
     },
     "execution_count": 283,
     "metadata": {},
     "output_type": "execute_result"
    }
   ],
   "source": [
    "tuple5[0:2]"
   ]
  },
  {
   "cell_type": "code",
   "execution_count": 285,
   "metadata": {},
   "outputs": [],
   "source": [
    "tuple6=((1,2,3),(4,5,6))"
   ]
  },
  {
   "cell_type": "code",
   "execution_count": 286,
   "metadata": {},
   "outputs": [
    {
     "data": {
      "text/plain": [
       "2"
      ]
     },
     "execution_count": 286,
     "metadata": {},
     "output_type": "execute_result"
    }
   ],
   "source": [
    "len(tuple6)"
   ]
  },
  {
   "cell_type": "code",
   "execution_count": 287,
   "metadata": {},
   "outputs": [
    {
     "data": {
      "text/plain": [
       "6"
      ]
     },
     "execution_count": 287,
     "metadata": {},
     "output_type": "execute_result"
    }
   ],
   "source": [
    "tuple6[1][2]"
   ]
  },
  {
   "cell_type": "code",
   "execution_count": 288,
   "metadata": {},
   "outputs": [],
   "source": [
    "#converting a list into tuple, this will be useful when you need an immutable \n",
    "tuple7=([1,2,3])"
   ]
  },
  {
   "cell_type": "code",
   "execution_count": 289,
   "metadata": {},
   "outputs": [
    {
     "data": {
      "text/plain": [
       "3"
      ]
     },
     "execution_count": 289,
     "metadata": {},
     "output_type": "execute_result"
    }
   ],
   "source": [
    "len(tuple7)"
   ]
  },
  {
   "cell_type": "code",
   "execution_count": 290,
   "metadata": {},
   "outputs": [
    {
     "data": {
      "text/plain": [
       "2"
      ]
     },
     "execution_count": 290,
     "metadata": {},
     "output_type": "execute_result"
    }
   ],
   "source": [
    "tuple8=([1,2,3],[4,5,6])\n",
    "len(tuple8)"
   ]
  },
  {
   "cell_type": "markdown",
   "metadata": {},
   "source": [
    "## tuple packing and unpacking"
   ]
  },
  {
   "cell_type": "code",
   "execution_count": 291,
   "metadata": {},
   "outputs": [
    {
     "name": "stdout",
     "output_type": "stream",
     "text": [
      "(1, 2, 3) 3\n"
     ]
    }
   ],
   "source": [
    "tuple9=1,2,3\n",
    "print(tuple9,len(tuple9))     # tuple packing"
   ]
  },
  {
   "cell_type": "code",
   "execution_count": 297,
   "metadata": {},
   "outputs": [
    {
     "name": "stdout",
     "output_type": "stream",
     "text": [
      "1 2 lenght= 3\n"
     ]
    }
   ],
   "source": [
    "a,b,c=tuple9\n",
    "print(a,b,\"lenght=\",len(tuple9))   # tuple unpacking"
   ]
  },
  {
   "cell_type": "code",
   "execution_count": 294,
   "metadata": {},
   "outputs": [
    {
     "name": "stdout",
     "output_type": "stream",
     "text": [
      "1\n",
      "3\n",
      "5\n"
     ]
    }
   ],
   "source": [
    "tuple10=(1,2),(3,4),(5,6)\n",
    "for (a,b) in tuple10:\n",
    "    print(a)"
   ]
  },
  {
   "cell_type": "markdown",
   "metadata": {},
   "source": [
    "#### TEST"
   ]
  },
  {
   "cell_type": "code",
   "execution_count": 5,
   "metadata": {},
   "outputs": [
    {
     "ename": "TypeError",
     "evalue": "object of type 'int' has no len()",
     "output_type": "error",
     "traceback": [
      "\u001b[0;31m---------------------------------------------------------------------------\u001b[0m",
      "\u001b[0;31mTypeError\u001b[0m                                 Traceback (most recent call last)",
      "\u001b[0;32m<ipython-input-5-52f95b86950b>\u001b[0m in \u001b[0;36m<module>\u001b[0;34m\u001b[0m\n\u001b[1;32m      1\u001b[0m \u001b[0mtup1\u001b[0m\u001b[0;34m=\u001b[0m\u001b[0;34m(\u001b[0m\u001b[0;36m2\u001b[0m\u001b[0;34m)\u001b[0m\u001b[0;34m\u001b[0m\u001b[0;34m\u001b[0m\u001b[0m\n\u001b[0;32m----> 2\u001b[0;31m \u001b[0mprint\u001b[0m\u001b[0;34m(\u001b[0m\u001b[0mlen\u001b[0m\u001b[0;34m(\u001b[0m\u001b[0mtup1\u001b[0m\u001b[0;34m)\u001b[0m\u001b[0;34m)\u001b[0m\u001b[0;34m\u001b[0m\u001b[0;34m\u001b[0m\u001b[0m\n\u001b[0m",
      "\u001b[0;31mTypeError\u001b[0m: object of type 'int' has no len()"
     ]
    }
   ],
   "source": [
    "tup1=(2)\n",
    "print(len(tup1))"
   ]
  },
  {
   "cell_type": "code",
   "execution_count": 7,
   "metadata": {},
   "outputs": [
    {
     "ename": "TypeError",
     "evalue": "'tuple' object does not support item assignment",
     "output_type": "error",
     "traceback": [
      "\u001b[0;31m---------------------------------------------------------------------------\u001b[0m",
      "\u001b[0;31mTypeError\u001b[0m                                 Traceback (most recent call last)",
      "\u001b[0;32m<ipython-input-7-1b48646cf294>\u001b[0m in \u001b[0;36m<module>\u001b[0;34m\u001b[0m\n\u001b[1;32m      1\u001b[0m \u001b[0mtup2\u001b[0m\u001b[0;34m=\u001b[0m\u001b[0;34m(\u001b[0m\u001b[0;36m1\u001b[0m\u001b[0;34m,\u001b[0m\u001b[0;36m2\u001b[0m\u001b[0;34m,\u001b[0m\u001b[0;36m3\u001b[0m\u001b[0;34m)\u001b[0m\u001b[0;34m\u001b[0m\u001b[0;34m\u001b[0m\u001b[0m\n\u001b[0;32m----> 2\u001b[0;31m \u001b[0mtup2\u001b[0m\u001b[0;34m[\u001b[0m\u001b[0;36m1\u001b[0m\u001b[0;34m]\u001b[0m\u001b[0;34m=\u001b[0m\u001b[0;36m10\u001b[0m\u001b[0;34m\u001b[0m\u001b[0;34m\u001b[0m\u001b[0m\n\u001b[0m\u001b[1;32m      3\u001b[0m \u001b[0mprint\u001b[0m\u001b[0;34m(\u001b[0m\u001b[0mtup2\u001b[0m\u001b[0;34m)\u001b[0m\u001b[0;34m\u001b[0m\u001b[0;34m\u001b[0m\u001b[0m\n",
      "\u001b[0;31mTypeError\u001b[0m: 'tuple' object does not support item assignment"
     ]
    }
   ],
   "source": [
    "tup2=(1,2,3)\n",
    "tup2[1]=10\n",
    "print(tup2)"
   ]
  },
  {
   "cell_type": "code",
   "execution_count": 302,
   "metadata": {},
   "outputs": [
    {
     "name": "stdout",
     "output_type": "stream",
     "text": [
      "10 dog 30\n"
     ]
    }
   ],
   "source": [
    "x,y,z=[10,\"dog\",30]\n",
    "print(x,y,z)"
   ]
  },
  {
   "cell_type": "code",
   "execution_count": 303,
   "metadata": {},
   "outputs": [
    {
     "name": "stdout",
     "output_type": "stream",
     "text": [
      "10 dog 30\n"
     ]
    }
   ],
   "source": [
    "x,y,z=(10,\"dog\",30)\n",
    "print(x,y,z)"
   ]
  },
  {
   "cell_type": "markdown",
   "metadata": {},
   "source": [
    "# EXERCISE SET-2"
   ]
  },
  {
   "cell_type": "code",
   "execution_count": 306,
   "metadata": {},
   "outputs": [],
   "source": [
    "# 1) declare and assign 4 variables a,b,c,d\n",
    "a=1\n",
    "b=2\n",
    "c=10\n",
    "d=20"
   ]
  },
  {
   "cell_type": "code",
   "execution_count": 308,
   "metadata": {},
   "outputs": [
    {
     "name": "stdout",
     "output_type": "stream",
     "text": [
      "27\n"
     ]
    }
   ],
   "source": [
    "# 2) calculate and print manhattan distance between two points\n",
    "import math\n",
    "absolute_value=abs(a-c)+abs(b-d)\n",
    "print(absolute_value)"
   ]
  },
  {
   "cell_type": "code",
   "execution_count": 312,
   "metadata": {},
   "outputs": [
    {
     "name": "stdout",
     "output_type": "stream",
     "text": [
      "20.12\n"
     ]
    }
   ],
   "source": [
    "# 3) calculate and print euclidean distance between two points\n",
    "euclidean_dist=pow((pow(abs(a-c),2)+pow(abs(b-d),2)),0.5)\n",
    "print(round(euclidean_dist,2))"
   ]
  },
  {
   "cell_type": "code",
   "execution_count": 313,
   "metadata": {},
   "outputs": [
    {
     "name": "stdout",
     "output_type": "stream",
     "text": [
      "18.72\n"
     ]
    }
   ],
   "source": [
    "# 4) calculate and print minkowski distance between two points\n",
    "minkowski_dist=pow((pow(abs(a-c),3)+pow(abs(b-d),3)),(1/3))\n",
    "print(round(minkowski_dist,2))"
   ]
  },
  {
   "cell_type": "code",
   "execution_count": 314,
   "metadata": {},
   "outputs": [],
   "source": [
    "# math.fabs - floating absolute"
   ]
  },
  {
   "cell_type": "code",
   "execution_count": 324,
   "metadata": {},
   "outputs": [
    {
     "name": "stdout",
     "output_type": "stream",
     "text": [
      "----------------------------------------------------------------------------------------------------\n"
     ]
    }
   ],
   "source": [
    "print(\"-\"*100)"
   ]
  },
  {
   "cell_type": "code",
   "execution_count": 319,
   "metadata": {},
   "outputs": [],
   "source": [
    "p=[1,2]\n",
    "q=[10,20]"
   ]
  },
  {
   "cell_type": "code",
   "execution_count": 320,
   "metadata": {},
   "outputs": [
    {
     "name": "stdout",
     "output_type": "stream",
     "text": [
      "27\n"
     ]
    }
   ],
   "source": [
    "# 1) calculate and print manhattan distance between two points\n",
    "import math\n",
    "absolute_value=abs(p[0]-q[0])+abs(p[1]-q[1])\n",
    "print(absolute_value)"
   ]
  },
  {
   "cell_type": "code",
   "execution_count": 321,
   "metadata": {},
   "outputs": [
    {
     "name": "stdout",
     "output_type": "stream",
     "text": [
      "20.12\n"
     ]
    }
   ],
   "source": [
    "# 2) calculate and print euclidean distance between two points\n",
    "euclidean_dist=pow((pow(abs(p[0]-q[0]),2)+pow(abs(p[1]-q[1]),2)),1/2)\n",
    "print(round(euclidean_dist,2))"
   ]
  },
  {
   "cell_type": "code",
   "execution_count": 322,
   "metadata": {},
   "outputs": [
    {
     "name": "stdout",
     "output_type": "stream",
     "text": [
      "18.72\n"
     ]
    }
   ],
   "source": [
    "# 3) calculate and print minkowski distance between two points\n",
    "minkowski_dist=pow((pow(abs(p[0]-q[0]),3)+pow(abs(p[1]-q[1]),3)),(1/3))\n",
    "print(round(minkowski_dist,2))"
   ]
  },
  {
   "cell_type": "code",
   "execution_count": 323,
   "metadata": {},
   "outputs": [
    {
     "name": "stdout",
     "output_type": "stream",
     "text": [
      "----------------------------------------------------------------------------------------------------\n"
     ]
    }
   ],
   "source": [
    "print(\"-\"*100)"
   ]
  },
  {
   "cell_type": "code",
   "execution_count": 325,
   "metadata": {},
   "outputs": [],
   "source": [
    "p=[1,2,3]\n",
    "q=[10,20,30]"
   ]
  },
  {
   "cell_type": "code",
   "execution_count": 327,
   "metadata": {},
   "outputs": [
    {
     "name": "stdout",
     "output_type": "stream",
     "text": [
      "54\n"
     ]
    }
   ],
   "source": [
    "# 1) calculate and print manhattan distance between two points\n",
    "import math\n",
    "absolute_value=abs(p[0]-q[0])+abs(p[1]-q[1])+abs(p[2]-q[2])\n",
    "print(absolute_value)"
   ]
  },
  {
   "cell_type": "code",
   "execution_count": 330,
   "metadata": {},
   "outputs": [
    {
     "name": "stdout",
     "output_type": "stream",
     "text": [
      "33.67\n"
     ]
    }
   ],
   "source": [
    "# 2) calculate and print euclidean distance between two points\n",
    "euclidean_dist=pow((pow(abs(p[0]-q[0]),2)+pow(abs(p[1]-q[1]),2)+pow(abs(p[2]-q[2]),2)),1/2)\n",
    "print(round(euclidean_dist,2))"
   ]
  },
  {
   "cell_type": "code",
   "execution_count": 329,
   "metadata": {},
   "outputs": [
    {
     "name": "stdout",
     "output_type": "stream",
     "text": [
      "29.72\n"
     ]
    }
   ],
   "source": [
    "# 3) calculate and print minkowski distance between two points\n",
    "minkowski_dist=pow((pow(abs(p[0]-q[0]),3)+pow(abs(p[1]-q[1]),3)+pow(abs(p[2]-q[2]),3)),(1/3))\n",
    "print(round(minkowski_dist,2))"
   ]
  },
  {
   "cell_type": "code",
   "execution_count": 336,
   "metadata": {},
   "outputs": [],
   "source": [
    "# Sample pearsons correlation between 2 vectors p and q"
   ]
  },
  {
   "cell_type": "code",
   "execution_count": 339,
   "metadata": {},
   "outputs": [
    {
     "name": "stdout",
     "output_type": "stream",
     "text": [
      "sum of piqi= 140\n",
      "sum of pi= 6\n",
      "sum of qi= 60\n",
      "sum of pi2= 14\n",
      "sum of qi2= 1400\n"
     ]
    }
   ],
   "source": [
    "# Calculating partial sums\n",
    "p=[1,2,3]\n",
    "q=[10,20,30]\n",
    "print(\"sum of piqi=\",(p[0]*q[0])+(p[1]*q[1])+(p[2]*q[2]))\n",
    "print(\"sum of pi=\", p[0]+p[1]+p[2])\n",
    "print(\"sum of qi=\", q[0]+q[1]+q[2])\n",
    "print(\"sum of pi2=\",pow(p[0],2)+pow(p[1],2)+pow(p[2],2))\n",
    "print(\"sum of qi2=\",pow(q[0],2)+pow(q[1],2)+pow(q[2],2))\n"
   ]
  },
  {
   "cell_type": "code",
   "execution_count": 340,
   "metadata": {},
   "outputs": [],
   "source": [
    "piqi=(p[0]*q[0])+(p[1]*q[1])+(p[2]*q[2])\n",
    "pi=p[0]+p[1]+p[2]\n",
    "qi=q[0]+q[1]+q[2]\n",
    "pi2=pow(p[0],2)+pow(p[1],2)+pow(p[2],2)\n",
    "qi2=pow(q[0],2)+pow(q[1],2)+pow(q[2],2)"
   ]
  },
  {
   "cell_type": "code",
   "execution_count": 342,
   "metadata": {},
   "outputs": [
    {
     "name": "stdout",
     "output_type": "stream",
     "text": [
      "20.0\n"
     ]
    }
   ],
   "source": [
    "neumerator=piqi-((pi*qi)/len(p))\n",
    "print(neumerator)"
   ]
  },
  {
   "cell_type": "code",
   "execution_count": 347,
   "metadata": {},
   "outputs": [
    {
     "name": "stdout",
     "output_type": "stream",
     "text": [
      "20.0\n"
     ]
    }
   ],
   "source": [
    "denominator=(pow(pi2-(pow(pi,2)/len(p)),0.5))*(pow(qi2-(pow(qi,2)/len(q)),0.5))\n",
    "print(round(denominator,2))"
   ]
  },
  {
   "cell_type": "code",
   "execution_count": 349,
   "metadata": {},
   "outputs": [
    {
     "name": "stdout",
     "output_type": "stream",
     "text": [
      "1.0\n"
     ]
    }
   ],
   "source": [
    "pearson_correlation=neumerator/denominator\n",
    "print(round(pearson_correlation,2))"
   ]
  },
  {
   "cell_type": "markdown",
   "metadata": {},
   "source": [
    "# DATA STRUCTURES-2"
   ]
  },
  {
   "cell_type": "markdown",
   "metadata": {},
   "source": [
    "## Ranges"
   ]
  },
  {
   "cell_type": "code",
   "execution_count": null,
   "metadata": {},
   "outputs": [],
   "source": [
    "# Ranges are immutable sequence of numbers typically used to loop through \"for loops\", ranges are indexed by numbers\n",
    "# range is a function - range(start=0,stop,step)\n",
    "# this itterates over an arithmetic progression of numbers"
   ]
  },
  {
   "cell_type": "code",
   "execution_count": null,
   "metadata": {},
   "outputs": [],
   "source": [
    "# we need to understand for loops in order to appriciate ranges"
   ]
  },
  {
   "cell_type": "code",
   "execution_count": 369,
   "metadata": {},
   "outputs": [
    {
     "name": "stdout",
     "output_type": "stream",
     "text": [
      "cat 3\n",
      "dog 3\n",
      "cow 3\n",
      "parrot 6\n",
      "hamster 7\n",
      "goat 4\n"
     ]
    }
   ],
   "source": [
    "words=[\"cat\",\"dog\",\"cow\",\"parrot\",\"hamster\",\"goat\"]\n",
    "for w in words:\n",
    "    print(w,len(w))\n",
    "    "
   ]
  },
  {
   "cell_type": "code",
   "execution_count": null,
   "metadata": {},
   "outputs": [],
   "source": [
    "# this for loop itterates this iterable sequence one at a time."
   ]
  },
  {
   "cell_type": "code",
   "execution_count": 363,
   "metadata": {},
   "outputs": [
    {
     "name": "stdout",
     "output_type": "stream",
     "text": [
      "10\n",
      "sumofnumbers before= 0\n",
      "sumofnumbers after= 10\n",
      "\n",
      "20\n",
      "sumofnumbers before= 10\n",
      "sumofnumbers after= 30\n",
      "\n",
      "30\n",
      "sumofnumbers before= 30\n",
      "sumofnumbers after= 60\n",
      "\n",
      "40\n",
      "sumofnumbers before= 60\n",
      "sumofnumbers after= 100\n",
      "\n",
      "50\n",
      "sumofnumbers before= 100\n",
      "sumofnumbers after= 150\n",
      "\n",
      "final value= 150\n"
     ]
    }
   ],
   "source": [
    "#calculate sum of these numbers\n",
    "num=[10,20,30,40,50]\n",
    "sumofnumbers=0\n",
    "for n in num:\n",
    "    print(n)\n",
    "    print(\"sumofnumbers before=\", sumofnumbers)\n",
    "    sumofnumbers=sumofnumbers+n\n",
    "    print(\"sumofnumbers after=\",sumofnumbers)\n",
    "    print()\n",
    "print(\"final value=\",sumofnumbers)"
   ]
  },
  {
   "cell_type": "code",
   "execution_count": 364,
   "metadata": {},
   "outputs": [
    {
     "name": "stdout",
     "output_type": "stream",
     "text": [
      "0\n",
      "1\n",
      "2\n",
      "3\n",
      "4\n"
     ]
    }
   ],
   "source": [
    "#here range gives me a tuple from 0 to n-1 i.e, till 4 in this case\n",
    "for n in range(5):\n",
    "    print(n)"
   ]
  },
  {
   "cell_type": "code",
   "execution_count": 365,
   "metadata": {},
   "outputs": [
    {
     "name": "stdout",
     "output_type": "stream",
     "text": [
      "3\n",
      "4\n",
      "5\n",
      "6\n",
      "7\n",
      "8\n",
      "9\n"
     ]
    }
   ],
   "source": [
    "# increments of 1 till n-1\n",
    "for n in range(3,10):\n",
    "    print(n)"
   ]
  },
  {
   "cell_type": "code",
   "execution_count": 362,
   "metadata": {},
   "outputs": [
    {
     "name": "stdout",
     "output_type": "stream",
     "text": [
      "1\n",
      "3\n",
      "5\n",
      "7\n",
      "9\n"
     ]
    }
   ],
   "source": [
    "# (start,stop,increment)- increments of 2 from 3 to (10-1) i.e, till 9\n",
    "for n in range(3,10,2):\n",
    "    print(n)"
   ]
  },
  {
   "cell_type": "code",
   "execution_count": 368,
   "metadata": {},
   "outputs": [
    {
     "name": "stdout",
     "output_type": "stream",
     "text": [
      "3\n",
      "5\n",
      "7\n"
     ]
    }
   ],
   "source": [
    "for n in range(3,9,2):\n",
    "    print(n)    # this results in an output of 7 but not 8 as the step size here is 2"
   ]
  },
  {
   "cell_type": "code",
   "execution_count": 377,
   "metadata": {},
   "outputs": [],
   "source": [
    "for n in range(10,0):\n",
    "    print(n)    # prints nothing"
   ]
  },
  {
   "cell_type": "code",
   "execution_count": 378,
   "metadata": {},
   "outputs": [
    {
     "name": "stdout",
     "output_type": "stream",
     "text": [
      "10\n",
      "9\n",
      "8\n",
      "7\n",
      "6\n",
      "5\n",
      "4\n",
      "3\n",
      "2\n",
      "1\n"
     ]
    }
   ],
   "source": [
    "for n in range(10,0,-1):\n",
    "    print(n)     # this prints from 10 to 0+1"
   ]
  },
  {
   "cell_type": "code",
   "execution_count": 375,
   "metadata": {},
   "outputs": [
    {
     "name": "stdout",
     "output_type": "stream",
     "text": [
      "10\n",
      "8\n",
      "6\n",
      "4\n",
      "2\n",
      "0\n",
      "-2\n"
     ]
    }
   ],
   "source": [
    "for n in range(10,-4,-2):\n",
    "    print(n)      # from 10 to -4+1 "
   ]
  },
  {
   "cell_type": "code",
   "execution_count": 385,
   "metadata": {},
   "outputs": [
    {
     "name": "stdout",
     "output_type": "stream",
     "text": [
      "0\n",
      "jane\n",
      "[]\n",
      "\n",
      "1\n",
      "john\n",
      "[[0, 'jane']]\n",
      "\n",
      "2\n",
      "mark\n",
      "[[0, 'jane'], [1, 'john']]\n",
      "\n",
      "3\n",
      "harry\n",
      "[[0, 'jane'], [1, 'john'], [2, 'mark']]\n",
      "\n",
      "4\n",
      "mike\n",
      "[[0, 'jane'], [1, 'john'], [2, 'mark'], [3, 'harry']]\n",
      "\n",
      "5\n",
      "ed\n",
      "[[0, 'jane'], [1, 'john'], [2, 'mark'], [3, 'harry'], [4, 'mike']]\n",
      "\n",
      "[[0, 'jane'], [1, 'john'], [2, 'mark'], [3, 'harry'], [4, 'mike'], [5, 'ed']]\n"
     ]
    }
   ],
   "source": [
    "words=[\"jane\",\"john\",\"mark\",\"harry\",\"mike\",\"ed\"]\n",
    "wordlist=[]\n",
    "for i in range(len(words)):\n",
    "    print(i)\n",
    "    print(words[i])\n",
    "    print(wordlist)\n",
    "    wordlist.append([i,words[i]])\n",
    "    print()\n",
    "print(wordlist)"
   ]
  },
  {
   "cell_type": "code",
   "execution_count": 386,
   "metadata": {},
   "outputs": [
    {
     "name": "stdout",
     "output_type": "stream",
     "text": [
      "range(0, 20, 2)\n",
      "[0, 2, 4, 6, 8, 10, 12, 14, 16, 18]\n",
      "False\n",
      "5\n",
      "10\n",
      "range(0, 10, 2)\n",
      "18\n"
     ]
    }
   ],
   "source": [
    "r=range(0,20,2)\n",
    "print(r)\n",
    "print(list(r))\n",
    "print(11 in r)\n",
    "print(r.index(10))  # index of the value 10\n",
    "print(r[5])\n",
    "print(r[:5])\n",
    "print(r[-1])"
   ]
  },
  {
   "cell_type": "code",
   "execution_count": 387,
   "metadata": {},
   "outputs": [
    {
     "name": "stdout",
     "output_type": "stream",
     "text": [
      "True\n"
     ]
    }
   ],
   "source": [
    "print(range(0)==range(2,1,3))"
   ]
  },
  {
   "cell_type": "code",
   "execution_count": 389,
   "metadata": {},
   "outputs": [
    {
     "name": "stdout",
     "output_type": "stream",
     "text": [
      "[]\n",
      "[]\n"
     ]
    }
   ],
   "source": [
    "r=range(2,1,3)\n",
    "n=range(0)\n",
    "print(list(r))\n",
    "print(list(n))"
   ]
  },
  {
   "cell_type": "markdown",
   "metadata": {},
   "source": [
    "#### Test"
   ]
  },
  {
   "cell_type": "code",
   "execution_count": 8,
   "metadata": {},
   "outputs": [
    {
     "ename": "TypeError",
     "evalue": "range expected 1 arguments, got 0",
     "output_type": "error",
     "traceback": [
      "\u001b[0;31m---------------------------------------------------------------------------\u001b[0m",
      "\u001b[0;31mTypeError\u001b[0m                                 Traceback (most recent call last)",
      "\u001b[0;32m<ipython-input-8-68becaf8a90d>\u001b[0m in \u001b[0;36m<module>\u001b[0;34m\u001b[0m\n\u001b[0;32m----> 1\u001b[0;31m \u001b[0;32mfor\u001b[0m \u001b[0mi\u001b[0m \u001b[0;32min\u001b[0m \u001b[0mrange\u001b[0m\u001b[0;34m(\u001b[0m\u001b[0;34m)\u001b[0m\u001b[0;34m:\u001b[0m\u001b[0;34m\u001b[0m\u001b[0;34m\u001b[0m\u001b[0m\n\u001b[0m\u001b[1;32m      2\u001b[0m     \u001b[0mprint\u001b[0m\u001b[0;34m(\u001b[0m\u001b[0mi\u001b[0m\u001b[0;34m,\u001b[0m\u001b[0mend\u001b[0m\u001b[0;34m=\u001b[0m\u001b[0;34m\",\"\u001b[0m\u001b[0;34m)\u001b[0m\u001b[0;34m\u001b[0m\u001b[0;34m\u001b[0m\u001b[0m\n",
      "\u001b[0;31mTypeError\u001b[0m: range expected 1 arguments, got 0"
     ]
    }
   ],
   "source": [
    "for i in range():\n",
    "    print(i,end=\",\")"
   ]
  },
  {
   "cell_type": "code",
   "execution_count": 391,
   "metadata": {},
   "outputs": [
    {
     "name": "stdout",
     "output_type": "stream",
     "text": [
      "0,1,2,3,4,5,6,7,8,9,"
     ]
    }
   ],
   "source": [
    "for i in range(10):\n",
    "    print(i,end=\",\")"
   ]
  },
  {
   "cell_type": "code",
   "execution_count": 392,
   "metadata": {},
   "outputs": [],
   "source": [
    "for i in range(0,-10):\n",
    "    print(i,end=\",\")"
   ]
  },
  {
   "cell_type": "code",
   "execution_count": 393,
   "metadata": {},
   "outputs": [
    {
     "name": "stdout",
     "output_type": "stream",
     "text": [
      "0,-2,-4,-6,-8,"
     ]
    }
   ],
   "source": [
    "for i in range(0,-10,-2):\n",
    "    print(i,end=\",\")"
   ]
  },
  {
   "cell_type": "code",
   "execution_count": 395,
   "metadata": {},
   "outputs": [
    {
     "name": "stdout",
     "output_type": "stream",
     "text": [
      "0\n",
      "-2\n",
      "-4\n",
      "-6\n",
      "-8\n"
     ]
    }
   ],
   "source": [
    "for i in range(0,-10,-2):\n",
    "    print(i)"
   ]
  },
  {
   "cell_type": "code",
   "execution_count": null,
   "metadata": {},
   "outputs": [],
   "source": [
    "# sequence type and indexed by ranges: strings lists, tuples, ranges"
   ]
  },
  {
   "cell_type": "markdown",
   "metadata": {},
   "source": [
    "## SETS"
   ]
  },
  {
   "cell_type": "code",
   "execution_count": 396,
   "metadata": {},
   "outputs": [],
   "source": [
    "# these are unordered collection with no duplicate elements, sets cannot be indexed.\n",
    "# basic uses include membership testing and eliminating duplicate entries\n",
    "# sets objects also support mathematical operations like union, intersection, difference,and symmetric difference"
   ]
  },
  {
   "cell_type": "code",
   "execution_count": 397,
   "metadata": {},
   "outputs": [],
   "source": [
    "# sets are represented by {}"
   ]
  },
  {
   "cell_type": "code",
   "execution_count": 403,
   "metadata": {},
   "outputs": [
    {
     "name": "stdout",
     "output_type": "stream",
     "text": [
      "{'orange', 'apple', 'pear', 'banana'}\n"
     ]
    }
   ],
   "source": [
    "basket={\"apple\",\"orange\",\"apple\",\"pear\",\"orange\",\"banana\"}\n",
    "print(basket)"
   ]
  },
  {
   "cell_type": "code",
   "execution_count": 405,
   "metadata": {},
   "outputs": [
    {
     "name": "stdout",
     "output_type": "stream",
     "text": [
      "{'o', 'g', ',', 'a', 'b', 'p', 'r', 'e', 'n', 'l'}\n"
     ]
    }
   ],
   "source": [
    "basket=set(\"apple,orange,apple,pear,orange,banana\")\n",
    "print(basket)"
   ]
  },
  {
   "cell_type": "code",
   "execution_count": 401,
   "metadata": {},
   "outputs": [
    {
     "name": "stdout",
     "output_type": "stream",
     "text": [
      "True\n"
     ]
    }
   ],
   "source": [
    "print(\"orange\" in basket)"
   ]
  },
  {
   "cell_type": "code",
   "execution_count": 402,
   "metadata": {},
   "outputs": [
    {
     "name": "stdout",
     "output_type": "stream",
     "text": [
      "{'2', '%', '^', '$', 'b', '#', 's', 'a', 'f', '4', '&', 'd', '5', '3'}\n"
     ]
    }
   ],
   "source": [
    "# single character set\n",
    "somechars=set(\"235345#$$%^$%&abdfsdf\")\n",
    "print(somechars)      # so here it takes each element seperately"
   ]
  },
  {
   "cell_type": "code",
   "execution_count": null,
   "metadata": {},
   "outputs": [],
   "source": [
    "## venndiagrams"
   ]
  },
  {
   "cell_type": "code",
   "execution_count": 408,
   "metadata": {},
   "outputs": [
    {
     "name": "stdout",
     "output_type": "stream",
     "text": [
      "{'a', 'c', 'b', 'd', 'r'}\n",
      "{'a', 'z', 'm', 'c', 'l'}\n"
     ]
    }
   ],
   "source": [
    "set1=set(\"abracadabra\")\n",
    "set2=set(\"alacazam\")\n",
    "print(set1)\n",
    "print(set2)"
   ]
  },
  {
   "cell_type": "markdown",
   "metadata": {},
   "source": [
    "##### unions, intersections, difference, symmetric difference"
   ]
  },
  {
   "cell_type": "code",
   "execution_count": 409,
   "metadata": {},
   "outputs": [
    {
     "name": "stdout",
     "output_type": "stream",
     "text": [
      "{'a', 'z', 'm', 'c', 'b', 'd', 'r', 'l'}\n"
     ]
    }
   ],
   "source": [
    "print(set1|set2)"
   ]
  },
  {
   "cell_type": "code",
   "execution_count": 410,
   "metadata": {},
   "outputs": [
    {
     "name": "stdout",
     "output_type": "stream",
     "text": [
      "set1|set2= {'a', 'z', 'm', 'c', 'b', 'd', 'r', 'l'}\n"
     ]
    }
   ],
   "source": [
    "# UNION\n",
    "print(\"set1|set2=\",set1|set2)   "
   ]
  },
  {
   "cell_type": "code",
   "execution_count": 412,
   "metadata": {},
   "outputs": [
    {
     "name": "stdout",
     "output_type": "stream",
     "text": [
      "set1&set2= {'c', 'a'}\n"
     ]
    }
   ],
   "source": [
    "# INTERSECTION\n",
    "print(\"set1&set2=\",set1&set2)"
   ]
  },
  {
   "cell_type": "code",
   "execution_count": 414,
   "metadata": {},
   "outputs": [
    {
     "name": "stdout",
     "output_type": "stream",
     "text": [
      "set1-set2= {'d', 'r', 'b'}\n"
     ]
    }
   ],
   "source": [
    "# DIFFERENCE\n",
    "print(\"set1-set2=\",set1-set2) # everything in set1 except elements of set2"
   ]
  },
  {
   "cell_type": "code",
   "execution_count": 416,
   "metadata": {},
   "outputs": [
    {
     "name": "stdout",
     "output_type": "stream",
     "text": [
      "set1^set2= {'b', 'd', 'l', 'r', 'z', 'm'}\n"
     ]
    }
   ],
   "source": [
    "# SYMMETRIC DIFFERENCE\n",
    "print(\"set1^set2=\",set1^set2)   # basically this is , (set1-set2) union (set2-set1) \n",
    "# this is the diff of union and intersection\n",
    "# symmetric difference venn dig - doesnot contain intersection part thats all"
   ]
  },
  {
   "cell_type": "markdown",
   "metadata": {},
   "source": [
    "#### TEST"
   ]
  },
  {
   "cell_type": "code",
   "execution_count": 421,
   "metadata": {},
   "outputs": [
    {
     "name": "stdout",
     "output_type": "stream",
     "text": [
      "set()\n"
     ]
    }
   ],
   "source": [
    "print((set1^set2)-((set1|set2)-(set1&set2)))"
   ]
  },
  {
   "cell_type": "code",
   "execution_count": 424,
   "metadata": {},
   "outputs": [
    {
     "name": "stdout",
     "output_type": "stream",
     "text": [
      "set()\n"
     ]
    }
   ],
   "source": [
    "print((set1^set2)-((set1-set2)|(set2-set1)))"
   ]
  },
  {
   "cell_type": "code",
   "execution_count": 426,
   "metadata": {},
   "outputs": [
    {
     "name": "stdout",
     "output_type": "stream",
     "text": [
      "{'cat', 'dog', 'deer'}\n"
     ]
    }
   ],
   "source": [
    "set5={\"dog\",\"cat\",\"deer\"}\n",
    "print(set5)"
   ]
  },
  {
   "cell_type": "code",
   "execution_count": 428,
   "metadata": {},
   "outputs": [
    {
     "name": "stdout",
     "output_type": "stream",
     "text": [
      "{'sparrow', 'hawk', 'eagle'}\n"
     ]
    }
   ],
   "source": [
    "set6={\"sparrow\",\"hawk\",\"eagle\"}\n",
    "print(set6)"
   ]
  },
  {
   "cell_type": "code",
   "execution_count": 417,
   "metadata": {},
   "outputs": [
    {
     "name": "stdout",
     "output_type": "stream",
     "text": [
      "{'2', '1', 'a', 'b', 'c', '3'}\n"
     ]
    }
   ],
   "source": [
    "set3=set(\"abc123\")\n",
    "print(set3)"
   ]
  },
  {
   "cell_type": "code",
   "execution_count": 420,
   "metadata": {},
   "outputs": [
    {
     "name": "stdout",
     "output_type": "stream",
     "text": [
      "{'2', '1', 'a', 'b', 'c', '3', '\"'}\n"
     ]
    }
   ],
   "source": [
    "set4=set(\"\\\"abc123\\\"\")\n",
    "print(set4)"
   ]
  },
  {
   "cell_type": "markdown",
   "metadata": {},
   "source": [
    "## DICTIONARIES"
   ]
  },
  {
   "cell_type": "code",
   "execution_count": 18,
   "metadata": {},
   "outputs": [],
   "source": [
    "# dictionaries are unordered set of <key:value> pairs, where keys are immutable type and must be unique \n",
    "#within one dictionary, dictionaries are indexed by keys,dictionaries are mutable\n",
    "#{a:1,b:2,c:3} .....  these have {} ......curly braces"
   ]
  },
  {
   "cell_type": "code",
   "execution_count": null,
   "metadata": {},
   "outputs": [],
   "source": [
    "#user3-{\"a\":1,\"d\":2,\"b\":3}\n",
    "#if u wanna introduce new key, ---- user3[\"w\"]=500\n",
    "#print(user3.keys())\n",
    "#print(list(user3.keys()))\n",
    "#common keys between 2 users or 2 variables = print(user2.keys()&user3.keys())"
   ]
  },
  {
   "cell_type": "code",
   "execution_count": 430,
   "metadata": {},
   "outputs": [
    {
     "name": "stdout",
     "output_type": "stream",
     "text": [
      "0\n"
     ]
    }
   ],
   "source": [
    "grades={}\n",
    "print(len(grades))"
   ]
  },
  {
   "cell_type": "code",
   "execution_count": 3,
   "metadata": {},
   "outputs": [
    {
     "name": "stdout",
     "output_type": "stream",
     "text": [
      "{'jack': 90, 'jill': 100, 'joe': 99, 'nat': 95, 'eric': 100, 'aubry': 90}\n"
     ]
    }
   ],
   "source": [
    "# creating a dictionaryu directly using comma-seperated by key value\n",
    "grades={\"jack\":90,\"jill\":100,\"joe\":99,\"nat\":95,\"eric\":100,\"aubry\":90}\n",
    "print(grades)"
   ]
  },
  {
   "cell_type": "code",
   "execution_count": 9,
   "metadata": {},
   "outputs": [],
   "source": [
    "# second type of writing a dict - you can also use tupples in side a list to make a dictionary\n",
    "# grades=dict([(\"jack\":90),(\"jill\":100),(\"\"joe\":99\")])"
   ]
  },
  {
   "cell_type": "code",
   "execution_count": null,
   "metadata": {},
   "outputs": [],
   "source": [
    "# third type of writing a dict- \n",
    "# grades=dict(jack=90,jill=100,joe=99)"
   ]
  },
  {
   "cell_type": "code",
   "execution_count": 4,
   "metadata": {},
   "outputs": [
    {
     "name": "stdout",
     "output_type": "stream",
     "text": [
      "dict_keys(['jack', 'jill', 'joe', 'nat', 'eric', 'aubry'])\n"
     ]
    }
   ],
   "source": [
    "print(grades.keys())"
   ]
  },
  {
   "cell_type": "code",
   "execution_count": 5,
   "metadata": {},
   "outputs": [
    {
     "name": "stdout",
     "output_type": "stream",
     "text": [
      "['aubry', 'eric', 'jack', 'jill', 'joe', 'nat']\n"
     ]
    }
   ],
   "source": [
    "print(sorted(grades.keys()))"
   ]
  },
  {
   "cell_type": "code",
   "execution_count": 6,
   "metadata": {},
   "outputs": [
    {
     "name": "stdout",
     "output_type": "stream",
     "text": [
      "<list_reverseiterator object at 0x10e90a0f0>\n"
     ]
    }
   ],
   "source": [
    "print(reversed(sorted(grades.keys())))"
   ]
  },
  {
   "cell_type": "code",
   "execution_count": 439,
   "metadata": {},
   "outputs": [
    {
     "name": "stdout",
     "output_type": "stream",
     "text": [
      "95\n"
     ]
    }
   ],
   "source": [
    "print(grades[\"nat\"])"
   ]
  },
  {
   "cell_type": "code",
   "execution_count": 440,
   "metadata": {},
   "outputs": [
    {
     "name": "stdout",
     "output_type": "stream",
     "text": [
      "dict_values([90, 100, 99, 96, 100, 90])\n"
     ]
    }
   ],
   "source": [
    "grades[\"nat\"]=96\n",
    "print(grades.values())"
   ]
  },
  {
   "cell_type": "code",
   "execution_count": 447,
   "metadata": {},
   "outputs": [
    {
     "name": "stdout",
     "output_type": "stream",
     "text": [
      "96\n"
     ]
    }
   ],
   "source": [
    "print(grades[\"nat\"])"
   ]
  },
  {
   "cell_type": "code",
   "execution_count": 448,
   "metadata": {},
   "outputs": [],
   "source": [
    "del grades[\"jack\"]"
   ]
  },
  {
   "cell_type": "code",
   "execution_count": 449,
   "metadata": {},
   "outputs": [
    {
     "name": "stdout",
     "output_type": "stream",
     "text": [
      "{'jill': 100, 'joe': 99, 'nat': 96, 'eric': 100, 'aubry': 90}\n"
     ]
    }
   ],
   "source": [
    "print(grades)"
   ]
  },
  {
   "cell_type": "code",
   "execution_count": 451,
   "metadata": {},
   "outputs": [
    {
     "name": "stdout",
     "output_type": "stream",
     "text": [
      "True\n"
     ]
    }
   ],
   "source": [
    "print(\"jill\" in grades)"
   ]
  },
  {
   "cell_type": "markdown",
   "metadata": {},
   "source": [
    "#### TEST"
   ]
  },
  {
   "cell_type": "code",
   "execution_count": 452,
   "metadata": {},
   "outputs": [
    {
     "name": "stdout",
     "output_type": "stream",
     "text": [
      "{'intestellar': 8.7, 'unbroken': 7.2, 'divergent': 6.8, 'wild': 7.2, 'neighbours': 6.4}\n"
     ]
    }
   ],
   "source": [
    "imdbrating=dict(intestellar=8.7,unbroken=7.2,divergent=6.8,wild=7.2,neighbours=6.4)\n",
    "print(imdbrating)"
   ]
  },
  {
   "cell_type": "code",
   "execution_count": 453,
   "metadata": {},
   "outputs": [
    {
     "name": "stdout",
     "output_type": "stream",
     "text": [
      "8.7\n"
     ]
    }
   ],
   "source": [
    "print(imdbrating[\"intestellar\"])"
   ]
  },
  {
   "cell_type": "code",
   "execution_count": 454,
   "metadata": {},
   "outputs": [
    {
     "name": "stdout",
     "output_type": "stream",
     "text": [
      "{'intestellar': 8.7, 'unbroken': 10, 'divergent': 6.8, 'wild': 7.2, 'neighbours': 6.4}\n"
     ]
    }
   ],
   "source": [
    "imdbrating[\"unbroken\"]=10\n",
    "print(imdbrating)"
   ]
  },
  {
   "cell_type": "code",
   "execution_count": 479,
   "metadata": {},
   "outputs": [
    {
     "ename": "KeyError",
     "evalue": "'everest'",
     "output_type": "error",
     "traceback": [
      "\u001b[0;31m---------------------------------------------------------------------------\u001b[0m",
      "\u001b[0;31mKeyError\u001b[0m                                  Traceback (most recent call last)",
      "\u001b[0;32m<ipython-input-479-eb9378043c38>\u001b[0m in \u001b[0;36m<module>\u001b[0;34m\u001b[0m\n\u001b[0;32m----> 1\u001b[0;31m \u001b[0mprint\u001b[0m\u001b[0;34m(\u001b[0m\u001b[0mimdbrating\u001b[0m\u001b[0;34m[\u001b[0m\u001b[0;34m\"everest\"\u001b[0m\u001b[0;34m]\u001b[0m\u001b[0;34m)\u001b[0m\u001b[0;34m\u001b[0m\u001b[0;34m\u001b[0m\u001b[0m\n\u001b[0m",
      "\u001b[0;31mKeyError\u001b[0m: 'everest'"
     ]
    }
   ],
   "source": [
    "print(imdbrating[\"everest\"])"
   ]
  },
  {
   "cell_type": "markdown",
   "metadata": {},
   "source": [
    "# LOOPS AND COMPARISIONS"
   ]
  },
  {
   "cell_type": "code",
   "execution_count": 465,
   "metadata": {},
   "outputs": [
    {
     "name": "stdout",
     "output_type": "stream",
     "text": [
      "jill 100\n",
      "joe 99\n",
      "nat 96\n",
      "eric 100\n",
      "aubry 90\n"
     ]
    }
   ],
   "source": [
    "# items method\n",
    "for k,v in grades.items():    # in is used when some value is subset of other \n",
    "    print(k,v)"
   ]
  },
  {
   "cell_type": "code",
   "execution_count": 467,
   "metadata": {},
   "outputs": [
    {
     "name": "stdout",
     "output_type": "stream",
     "text": [
      "jill 100...joe 99...nat 96...eric 100...aubry 90..."
     ]
    }
   ],
   "source": [
    "# items method\n",
    "for k,v in grades.items():\n",
    "    print(k,v,end=\"...\")"
   ]
  },
  {
   "cell_type": "code",
   "execution_count": 458,
   "metadata": {},
   "outputs": [
    {
     "name": "stdout",
     "output_type": "stream",
     "text": [
      "jill\n",
      "joe\n",
      "nat\n",
      "eric\n",
      "aubry\n"
     ]
    }
   ],
   "source": [
    "for keys in grades:\n",
    "\n",
    "    print(keys)"
   ]
  },
  {
   "cell_type": "code",
   "execution_count": 469,
   "metadata": {},
   "outputs": [
    {
     "name": "stdout",
     "output_type": "stream",
     "text": [
      "0 90\n",
      "1 100\n",
      "2 99\n",
      "3 95\n",
      "4 100\n",
      "5 90\n"
     ]
    }
   ],
   "source": [
    "# enumerate function helps to index a key value\n",
    "points=[90,100,99,95,100,90]\n",
    "for i,v in enumerate(points):\n",
    "    print(i,v)"
   ]
  },
  {
   "cell_type": "code",
   "execution_count": 470,
   "metadata": {},
   "outputs": [
    {
     "name": "stdout",
     "output_type": "stream",
     "text": [
      "jack 90\n",
      "jill 100\n",
      "nat 95\n",
      "joe 99\n",
      "eric 90\n",
      "aurby 100\n"
     ]
    }
   ],
   "source": [
    "# to zip two list they must have same length\n",
    "# entries can be paired with zip function\n",
    "names=[\"jack\",\"jill\",\"nat\",'joe',\"eric\",\"aurby\"]\n",
    "points=[90,100,95,99,90,100]\n",
    "for n,p in zip(names,points):\n",
    "    print(n,p)"
   ]
  },
  {
   "cell_type": "code",
   "execution_count": 471,
   "metadata": {},
   "outputs": [
    {
     "name": "stdout",
     "output_type": "stream",
     "text": [
      "{'jill': 100, 'joe': 99, 'nat': 96, 'eric': 100, 'aubry': 90}\n"
     ]
    }
   ],
   "source": [
    "print(grades)"
   ]
  },
  {
   "cell_type": "code",
   "execution_count": 475,
   "metadata": {},
   "outputs": [
    {
     "name": "stdout",
     "output_type": "stream",
     "text": [
      "aubry\n",
      "eric\n",
      "jill\n",
      "joe\n",
      "nat\n"
     ]
    }
   ],
   "source": [
    "for k in sorted(grades.keys()):\n",
    "    print(k)"
   ]
  },
  {
   "cell_type": "code",
   "execution_count": 477,
   "metadata": {},
   "outputs": [
    {
     "name": "stdout",
     "output_type": "stream",
     "text": [
      "nat\n",
      "joe\n",
      "jill\n",
      "eric\n",
      "aubry\n"
     ]
    }
   ],
   "source": [
    "# only ways the reverse function works is after sorting, you can only reverse after sorting.\n",
    "for k in reversed(sorted(grades.keys())):\n",
    "    print(k)"
   ]
  },
  {
   "cell_type": "code",
   "execution_count": 480,
   "metadata": {},
   "outputs": [
    {
     "name": "stdout",
     "output_type": "stream",
     "text": [
      "True\n"
     ]
    }
   ],
   "source": [
    "print((1,2,3)<(1,2,4))"
   ]
  },
  {
   "cell_type": "code",
   "execution_count": 481,
   "metadata": {},
   "outputs": [
    {
     "name": "stdout",
     "output_type": "stream",
     "text": [
      "True\n"
     ]
    }
   ],
   "source": [
    "print([1,2,3]<[1,2,4])"
   ]
  },
  {
   "cell_type": "code",
   "execution_count": 482,
   "metadata": {},
   "outputs": [
    {
     "name": "stdout",
     "output_type": "stream",
     "text": [
      "True\n"
     ]
    }
   ],
   "source": [
    "print(\"ABC\"<\"C\"<\"Pascal\"<\"Python\")"
   ]
  },
  {
   "cell_type": "code",
   "execution_count": 483,
   "metadata": {},
   "outputs": [
    {
     "name": "stdout",
     "output_type": "stream",
     "text": [
      "True\n"
     ]
    }
   ],
   "source": [
    "print((1,2,3,4)<(1,2,4))"
   ]
  },
  {
   "cell_type": "code",
   "execution_count": 484,
   "metadata": {},
   "outputs": [
    {
     "name": "stdout",
     "output_type": "stream",
     "text": [
      "True\n"
     ]
    }
   ],
   "source": [
    "print((1,2)<(1,2,-1))"
   ]
  },
  {
   "cell_type": "code",
   "execution_count": 485,
   "metadata": {},
   "outputs": [
    {
     "name": "stdout",
     "output_type": "stream",
     "text": [
      "True\n"
     ]
    }
   ],
   "source": [
    "print((1,2,3)==(1.0,2.0,3.0))"
   ]
  },
  {
   "cell_type": "code",
   "execution_count": 487,
   "metadata": {},
   "outputs": [
    {
     "name": "stdout",
     "output_type": "stream",
     "text": [
      "True\n"
     ]
    }
   ],
   "source": [
    "print((1,2,(\"aa\",\"ab\"))<(1,2,(\"abc\",\"a\"),4))"
   ]
  },
  {
   "cell_type": "markdown",
   "metadata": {},
   "source": [
    "#### TEST"
   ]
  },
  {
   "cell_type": "code",
   "execution_count": 11,
   "metadata": {},
   "outputs": [
    {
     "name": "stdout",
     "output_type": "stream",
     "text": [
      "everest 5\n",
      "minions 3\n",
      "big 4\n"
     ]
    }
   ],
   "source": [
    "ratings={\"everest\":5,\"minions\":3,\"big\":4}\n",
    "for (k,v) in ratings.items():\n",
    "    print(k,v)"
   ]
  },
  {
   "cell_type": "code",
   "execution_count": 491,
   "metadata": {},
   "outputs": [
    {
     "ename": "TypeError",
     "evalue": "cannot unpack non-iterable int object",
     "output_type": "error",
     "traceback": [
      "\u001b[0;31m---------------------------------------------------------------------------\u001b[0m",
      "\u001b[0;31mTypeError\u001b[0m                                 Traceback (most recent call last)",
      "\u001b[0;32m<ipython-input-491-13ebd96d6b8b>\u001b[0m in \u001b[0;36m<module>\u001b[0;34m\u001b[0m\n\u001b[1;32m      1\u001b[0m \u001b[0mscores\u001b[0m\u001b[0;34m=\u001b[0m\u001b[0;34m[\u001b[0m\u001b[0;36m9\u001b[0m\u001b[0;34m,\u001b[0m\u001b[0;36m10\u001b[0m\u001b[0;34m,\u001b[0m\u001b[0;36m8\u001b[0m\u001b[0;34m,\u001b[0m\u001b[0;36m5\u001b[0m\u001b[0;34m,\u001b[0m\u001b[0;36m10\u001b[0m\u001b[0;34m,\u001b[0m\u001b[0;36m6\u001b[0m\u001b[0;34m]\u001b[0m\u001b[0;34m\u001b[0m\u001b[0;34m\u001b[0m\u001b[0m\n\u001b[0;32m----> 2\u001b[0;31m \u001b[0;32mfor\u001b[0m \u001b[0mi\u001b[0m\u001b[0;34m,\u001b[0m\u001b[0mv\u001b[0m \u001b[0;32min\u001b[0m \u001b[0mscores\u001b[0m\u001b[0;34m:\u001b[0m\u001b[0;34m\u001b[0m\u001b[0;34m\u001b[0m\u001b[0m\n\u001b[0m\u001b[1;32m      3\u001b[0m     \u001b[0mprint\u001b[0m\u001b[0;34m(\u001b[0m\u001b[0mi\u001b[0m\u001b[0;34m,\u001b[0m\u001b[0mv\u001b[0m\u001b[0;34m)\u001b[0m\u001b[0;34m\u001b[0m\u001b[0;34m\u001b[0m\u001b[0m\n",
      "\u001b[0;31mTypeError\u001b[0m: cannot unpack non-iterable int object"
     ]
    }
   ],
   "source": [
    "scores=[9,10,8,5,10,6]\n",
    "for i,v in scores:\n",
    "    print(i,v)"
   ]
  },
  {
   "cell_type": "code",
   "execution_count": 12,
   "metadata": {},
   "outputs": [
    {
     "ename": "TypeError",
     "evalue": "'dict_keys' object is not reversible",
     "output_type": "error",
     "traceback": [
      "\u001b[0;31m---------------------------------------------------------------------------\u001b[0m",
      "\u001b[0;31mTypeError\u001b[0m                                 Traceback (most recent call last)",
      "\u001b[0;32m<ipython-input-12-69e8f57bff56>\u001b[0m in \u001b[0;36m<module>\u001b[0;34m\u001b[0m\n\u001b[0;32m----> 1\u001b[0;31m \u001b[0;32mfor\u001b[0m \u001b[0mx\u001b[0m \u001b[0;32min\u001b[0m \u001b[0mreversed\u001b[0m\u001b[0;34m(\u001b[0m\u001b[0mratings\u001b[0m\u001b[0;34m.\u001b[0m\u001b[0mkeys\u001b[0m\u001b[0;34m(\u001b[0m\u001b[0;34m)\u001b[0m\u001b[0;34m)\u001b[0m\u001b[0;34m:\u001b[0m\u001b[0;34m\u001b[0m\u001b[0;34m\u001b[0m\u001b[0m\n\u001b[0m\u001b[1;32m      2\u001b[0m     \u001b[0mprint\u001b[0m\u001b[0;34m(\u001b[0m\u001b[0mx\u001b[0m\u001b[0;34m)\u001b[0m\u001b[0;34m\u001b[0m\u001b[0;34m\u001b[0m\u001b[0m\n\u001b[1;32m      3\u001b[0m \u001b[0;34m\u001b[0m\u001b[0m\n",
      "\u001b[0;31mTypeError\u001b[0m: 'dict_keys' object is not reversible"
     ]
    }
   ],
   "source": [
    "for x in reversed(ratings.keys()):\n",
    "    print(x)\n",
    "    "
   ]
  },
  {
   "cell_type": "markdown",
   "metadata": {},
   "source": [
    "# EXERCISE SET-3"
   ]
  },
  {
   "cell_type": "code",
   "execution_count": 493,
   "metadata": {},
   "outputs": [
    {
     "name": "stdout",
     "output_type": "stream",
     "text": [
      "hello\n",
      "hello\n",
      "hello\n",
      "hello\n",
      "hello\n"
     ]
    }
   ],
   "source": [
    "for i in range(5):\n",
    "    print(\"hello\")"
   ]
  },
  {
   "cell_type": "code",
   "execution_count": 494,
   "metadata": {},
   "outputs": [
    {
     "name": "stdout",
     "output_type": "stream",
     "text": [
      "0\n",
      "1\n",
      "2\n",
      "3\n",
      "4\n"
     ]
    }
   ],
   "source": [
    "for i in range(5):\n",
    "    print(i)"
   ]
  },
  {
   "cell_type": "code",
   "execution_count": 496,
   "metadata": {},
   "outputs": [
    {
     "name": "stdout",
     "output_type": "stream",
     "text": [
      "0\n",
      "hello\n",
      "1\n",
      "hello\n",
      "2\n",
      "hello\n",
      "3\n",
      "hello\n",
      "4\n",
      "hello\n"
     ]
    }
   ],
   "source": [
    "for i in range(5):\n",
    "    print(i)\n",
    "    print(\"hello\")"
   ]
  },
  {
   "cell_type": "code",
   "execution_count": 497,
   "metadata": {},
   "outputs": [
    {
     "name": "stdout",
     "output_type": "stream",
     "text": [
      "[0] s\n",
      "[1] u\n",
      "[2] n\n",
      "[3] d\n",
      "[4] e\n",
      "[5] v\n",
      "[6] i\n",
      "[7] l\n",
      "[8] s\n"
     ]
    }
   ],
   "source": [
    "strg=\"sundevils\"\n",
    "for i in range(len(strg)):\n",
    "    print([i],strg[i])"
   ]
  },
  {
   "cell_type": "code",
   "execution_count": 527,
   "metadata": {},
   "outputs": [
    {
     "name": "stdout",
     "output_type": "stream",
     "text": [
      "0 s\n",
      "1 u\n",
      "2 n\n",
      "3 d\n",
      "4 e\n",
      "5 v\n",
      "6 i\n",
      "7 l\n",
      "8 s\n"
     ]
    }
   ],
   "source": [
    "##extra\n",
    "for i,n in enumerate(strg):\n",
    "    print(i,n)"
   ]
  },
  {
   "cell_type": "code",
   "execution_count": 502,
   "metadata": {},
   "outputs": [
    {
     "name": "stdout",
     "output_type": "stream",
     "text": [
      "0 s   1 u   2 n   3 d   4 e   5 v   6 i   7 l   8 s   "
     ]
    }
   ],
   "source": [
    "for i,n in enumerate(strg):\n",
    "    print(i,n,end=\"   \")"
   ]
  },
  {
   "cell_type": "code",
   "execution_count": 503,
   "metadata": {},
   "outputs": [
    {
     "name": "stdout",
     "output_type": "stream",
     "text": [
      "0 10\n",
      "1 20\n",
      "2 30\n"
     ]
    }
   ],
   "source": [
    "lst=[10,20,30]\n",
    "for i in range(len(lst)):\n",
    "    print(i,lst[i])"
   ]
  },
  {
   "cell_type": "code",
   "execution_count": 504,
   "metadata": {},
   "outputs": [
    {
     "name": "stdout",
     "output_type": "stream",
     "text": [
      "10\n",
      "20\n",
      "30\n"
     ]
    }
   ],
   "source": [
    "for l in lst:\n",
    "    print(l)"
   ]
  },
  {
   "cell_type": "code",
   "execution_count": 506,
   "metadata": {},
   "outputs": [
    {
     "name": "stdout",
     "output_type": "stream",
     "text": [
      "0 10 100\n",
      "1 20 200\n",
      "2 30 300\n"
     ]
    }
   ],
   "source": [
    "mylst1=[10,20,30]\n",
    "mylst2=[100,200,300]\n",
    "for i in range(len(mylst1)):\n",
    "    print(i,mylst1[i],mylst2[i])"
   ]
  },
  {
   "cell_type": "code",
   "execution_count": 508,
   "metadata": {},
   "outputs": [
    {
     "name": "stdout",
     "output_type": "stream",
     "text": [
      "10 100\n",
      "20 200\n",
      "30 300\n"
     ]
    }
   ],
   "source": [
    "for l1,l2 in zip(mylst1,mylst2):\n",
    "    print(l1,l2)     "
   ]
  },
  {
   "cell_type": "code",
   "execution_count": 509,
   "metadata": {},
   "outputs": [
    {
     "name": "stdout",
     "output_type": "stream",
     "text": [
      "A 100\n",
      "B 200\n",
      "C 300\n"
     ]
    }
   ],
   "source": [
    "mydictionary={\"A\":100,\"B\":200,\"C\":300}\n",
    "for k in sorted(mydictionary.keys()):\n",
    "    print(k,mydictionary[k])"
   ]
  },
  {
   "cell_type": "code",
   "execution_count": 515,
   "metadata": {},
   "outputs": [
    {
     "name": "stdout",
     "output_type": "stream",
     "text": [
      "anvesh\n",
      "--------------------------------------------------\n",
      "father ramesh\n",
      "mother uma\n",
      "brother sai\n",
      "husband anvesh\n"
     ]
    }
   ],
   "source": [
    "nikki={\"father\":\"ramesh\",\"mother\":\"uma\",\"brother\":\"sai\",\"husband\":\"anvesh\"}\n",
    "print(nikki[\"husband\"])\n",
    "print(\"-\"*50)\n",
    "for k in nikki:\n",
    "    print(k,nikki[k])"
   ]
  },
  {
   "cell_type": "code",
   "execution_count": 516,
   "metadata": {},
   "outputs": [
    {
     "name": "stdout",
     "output_type": "stream",
     "text": [
      "C 300\n",
      "B 200\n",
      "A 100\n"
     ]
    }
   ],
   "source": [
    "mydictionary={\"A\":100,\"B\":200,\"C\":300}\n",
    "for k in reversed(sorted(mydictionary.keys())):\n",
    "    print(k,mydictionary[k])"
   ]
  },
  {
   "cell_type": "code",
   "execution_count": 526,
   "metadata": {},
   "outputs": [
    {
     "name": "stdout",
     "output_type": "stream",
     "text": [
      "{'father': 'ramesh', 'mother': 'uma', 'brother': 'sai', 'husband': 'anvesh'}\n",
      "father\n",
      "mother\n",
      "brother\n",
      "husband\n"
     ]
    }
   ],
   "source": [
    "print(nikki)\n",
    "for keys in nikki:\n",
    "    print(keys)"
   ]
  },
  {
   "cell_type": "code",
   "execution_count": null,
   "metadata": {},
   "outputs": [],
   "source": [
    "#### unlike lists and strings dictionaries are indexed by keys, as dictionaries are unordered collection of objects\n",
    "#### eg: in a list or a string idex at 0 is the same all the time but in dictionary it changes all the time.\n",
    "#### keys are stored in different memory all the time so we need to index it by keys not by numbers\n",
    "#### if you print all the keys in a dictionary it does not gaurentee you in a same order, for eg: consider my dictiona\n",
    "##### -ry : if you return for key values it might give you A,B,C and nxt time it might give you B,C,A so sorting\n",
    "##### dictionaries becomes necessary most of the times."
   ]
  },
  {
   "cell_type": "code",
   "execution_count": 531,
   "metadata": {},
   "outputs": [
    {
     "name": "stdout",
     "output_type": "stream",
     "text": [
      "0 0\n",
      "1 1\n",
      "2 3\n",
      "3 6\n",
      "4 10\n",
      "10\n"
     ]
    }
   ],
   "source": [
    "sumi=0\n",
    "for i in range(5):\n",
    "    sumi=sumi+i\n",
    "    print(i,sumi)\n",
    "print(sumi)"
   ]
  },
  {
   "cell_type": "code",
   "execution_count": 532,
   "metadata": {},
   "outputs": [
    {
     "name": "stdout",
     "output_type": "stream",
     "text": [
      "0 10 10\n",
      "1 20 30\n",
      "2 30 60\n",
      "60\n"
     ]
    }
   ],
   "source": [
    "sumi=0\n",
    "p=[10,20,30]\n",
    "for i in range(len(p)):\n",
    "    sumi=sumi+p[i]\n",
    "    print(i,p[i],sumi)\n",
    "print(sumi)"
   ]
  },
  {
   "cell_type": "code",
   "execution_count": 535,
   "metadata": {},
   "outputs": [
    {
     "name": "stdout",
     "output_type": "stream",
     "text": [
      "p= [1, 2, 3]\n",
      "q= [10, 20, 30]\n",
      "sum of elements in p= 6\n",
      "sum of elements in q= 60\n"
     ]
    }
   ],
   "source": [
    "p=[1,2,3]\n",
    "q=[10,20,30]\n",
    "sump=0\n",
    "sumq=0\n",
    "for i in range(len(p)):\n",
    "    sump=sump+p[i]\n",
    "    sumq=sumq+q[i]\n",
    "print(\"p=\",p)\n",
    "print(\"q=\",q)\n",
    "print(\"sum of elements in p=\",sump)\n",
    "print(\"sum of elements in q=\",sumq)"
   ]
  },
  {
   "cell_type": "code",
   "execution_count": 538,
   "metadata": {},
   "outputs": [
    {
     "name": "stdout",
     "output_type": "stream",
     "text": [
      "manhattan distance= 54\n"
     ]
    }
   ],
   "source": [
    "import math\n",
    "p=[1,2,3]\n",
    "q=[10,20,30]\n",
    "summanhattan=0\n",
    "for i in range(len(p)):\n",
    "    summanhattan=summanhattan+abs(p[i]-q[i])\n",
    "print(\"manhattan distance=\",round(summanhattan,2))\n",
    "    "
   ]
  },
  {
   "cell_type": "code",
   "execution_count": 539,
   "metadata": {},
   "outputs": [
    {
     "name": "stdout",
     "output_type": "stream",
     "text": [
      "[1, 2, 3]\n",
      "[10, 20, 30]\n",
      "manhattan distance= 54\n",
      "manhattan distance= 33.67\n",
      "manhattan distance= 29.72\n"
     ]
    }
   ],
   "source": [
    "p=[1,2,3]\n",
    "q=[10,20,30]\n",
    "summanhattan=0\n",
    "sumeuclidean=0\n",
    "summinkowski=0\n",
    "for i in range(len(p)):\n",
    "    summanhattan=summanhattan+abs(p[i]-q[i])\n",
    "    sumeuclidean=sumeuclidean+pow(abs(p[i]-q[i]),2)\n",
    "    summinkowski=summinkowski+pow(abs(p[i]-q[i]),3)\n",
    "print(p)\n",
    "print(q)\n",
    "print(\"manhattan distance=\",round(summanhattan,2))\n",
    "print(\"manhattan distance=\",round(pow(sumeuclidean,1/2),2))\n",
    "print(\"manhattan distance=\",round(pow(summinkowski,1/3),2))"
   ]
  },
  {
   "cell_type": "code",
   "execution_count": 546,
   "metadata": {},
   "outputs": [
    {
     "name": "stdout",
     "output_type": "stream",
     "text": [
      "1.0\n",
      "\n"
     ]
    }
   ],
   "source": [
    "P=[1,2,3]\n",
    "Q=[10,20,30]\n",
    "sumofpiqi=0\n",
    "sumofpi=0\n",
    "sumofqi=0\n",
    "sumofpi2=0\n",
    "sumofqi2=0\n",
    "for p,q in zip(P,Q):\n",
    "    sumofpiqi=sumofpiqi+(p*q)\n",
    "    sumofpi=sumofpi+p\n",
    "    sumofqi=sumofqi+q\n",
    "    sumofpi2=sumofpi2+(p*p)\n",
    "    sumofqi2=sumofqi2+(q*q)\n",
    "neumerator=sumofpiqi-((sumofpi*sumofqi)/len(P))\n",
    "denominator=pow(sumofpi2-(pow(sumofpi,2)/len(P)),0.5)*pow(sumofqi2-(pow(sumofqi,2)/len(Q)),0.5)\n",
    "pearson_correlation=neumerator/denominator\n",
    "\n",
    "print(round(pearson_correlation,2))\n",
    "print()\n",
    "    "
   ]
  },
  {
   "cell_type": "code",
   "execution_count": 548,
   "metadata": {},
   "outputs": [
    {
     "name": "stdout",
     "output_type": "stream",
     "text": [
      "A 1\n",
      "B 2\n",
      "C 3\n",
      "D 4\n",
      "E 5\n"
     ]
    }
   ],
   "source": [
    "UserXRatingsD={\"A\":1,\"B\":2,\"C\":3,\"D\":4,\"E\":5}\n",
    "for k,v in sorted(UserXRatingsD.items()):\n",
    "    print(k,v)"
   ]
  },
  {
   "cell_type": "code",
   "execution_count": 549,
   "metadata": {},
   "outputs": [
    {
     "name": "stdout",
     "output_type": "stream",
     "text": [
      "A 1\n",
      "B 2\n",
      "C 3\n",
      "D 4\n",
      "E 5\n"
     ]
    }
   ],
   "source": [
    "for k in sorted(UserXRatingsD.keys()):\n",
    "    print(k,UserXRatingsD[k])    # \"in\" is a membership key "
   ]
  },
  {
   "cell_type": "code",
   "execution_count": 557,
   "metadata": {},
   "outputs": [
    {
     "name": "stdout",
     "output_type": "stream",
     "text": [
      "A A 1 10\n",
      "B B 2 20\n",
      "C C 3 30\n",
      "D D 4 40\n",
      "E E 5 50\n"
     ]
    }
   ],
   "source": [
    "UserMRatingsD={\"A\":1,\"B\":2,\"C\":3,\"D\":4,\"E\":5}\n",
    "UserNRatingsD={\"A\":10,\"B\":20,\"C\":30,\"D\":40,\"E\":50}\n",
    "for k1,k2 in sorted(zip(UserMRatingsD,UserNRatingsD)):\n",
    "    print(k1,k2,UserMRatingsD[k1],UserNRatingsD[k2])\n",
    "    \n",
    "# you can get the result even if you change the keys from abcde to fghij in any of the dictionaries.\n"
   ]
  },
  {
   "cell_type": "code",
   "execution_count": 554,
   "metadata": {},
   "outputs": [
    {
     "name": "stdout",
     "output_type": "stream",
     "text": [
      "A 1 10\n",
      "B 2 20\n",
      "C 3 30\n",
      "D 4 40\n",
      "E 5 50\n"
     ]
    }
   ],
   "source": [
    "for k in sorted(UserMRatingsD):\n",
    "    print(k,UserMRatingsD[k],UserNRatingsD[k])\n",
    "# if you change the keys of any of the dictionary it results in an error"
   ]
  },
  {
   "cell_type": "code",
   "execution_count": 562,
   "metadata": {},
   "outputs": [
    {
     "name": "stdout",
     "output_type": "stream",
     "text": [
      "manhattan distance= 135\n"
     ]
    }
   ],
   "source": [
    "UserMRatingsD={\"A\":1,\"B\":2,\"C\":3,\"D\":4,\"E\":5}\n",
    "UserNRatingsD={\"A\":10,\"B\":20,\"C\":30,\"D\":40,\"E\":50}\n",
    "summan=0\n",
    "for k in sorted(UserMRatingsD.keys()):\n",
    "    summan=summan+(abs(UserMRatingsD[k]-UserNRatingsD[k]))\n",
    "print(\"manhattan distance=\",round(summan,2))"
   ]
  },
  {
   "cell_type": "code",
   "execution_count": 568,
   "metadata": {},
   "outputs": [
    {
     "name": "stdout",
     "output_type": "stream",
     "text": [
      "20\n",
      "{'A': 10, 'B': 20, 'C': 30, 'D': 40, 'E': 50}\n",
      "{'A': 100, 'B': 200, 'C': 300, 'D': 400, 'E': 500}\n"
     ]
    }
   ],
   "source": [
    "userratingsND={\"X\":{\"A\":10,\"B\":20,\"C\":30,\"D\":40,\"E\":50},\"Y\":{\"A\":100,\"B\":200,\"C\":300,\"D\":400,\"E\":500}}\n",
    "print(userratingsND[\"X\"][\"B\"])\n",
    "userXratingsD=userratingsND[\"X\"]\n",
    "userYratingsD=userratingsND[\"Y\"]\n",
    "print(userXratingsD)\n",
    "print(userYratingsD)\n"
   ]
  },
  {
   "cell_type": "code",
   "execution_count": 566,
   "metadata": {},
   "outputs": [
    {
     "name": "stdout",
     "output_type": "stream",
     "text": [
      "A 10 100\n",
      "B 20 200\n",
      "C 30 300\n",
      "D 40 400\n",
      "E 50 500\n"
     ]
    }
   ],
   "source": [
    "for k in sorted(userXratingsD.keys()):\n",
    "    print(k,userXratingsD[k],userYratingsD[k])"
   ]
  },
  {
   "cell_type": "markdown",
   "metadata": {},
   "source": [
    "# PYTHON CONTROL FLOW AND FUNCTIONS"
   ]
  },
  {
   "cell_type": "markdown",
   "metadata": {},
   "source": [
    "### CONTROL FLOW"
   ]
  },
  {
   "cell_type": "code",
   "execution_count": null,
   "metadata": {},
   "outputs": [],
   "source": [
    "# while loop - very similar to for loop - \n",
    "#trying to itterate and running same type of operations again and again\n",
    "# while statements will evaluate while the conditions hold true."
   ]
  },
  {
   "cell_type": "code",
   "execution_count": null,
   "metadata": {},
   "outputs": [],
   "source": [
    "# using while loop print a fibonacci series"
   ]
  },
  {
   "cell_type": "code",
   "execution_count": 571,
   "metadata": {},
   "outputs": [
    {
     "name": "stdout",
     "output_type": "stream",
     "text": [
      "0\n",
      "1\n",
      "2\n",
      "3\n",
      "4\n",
      "5\n",
      "6\n",
      "7\n",
      "8\n",
      "9\n"
     ]
    }
   ],
   "source": [
    "i=0\n",
    "while i<10:\n",
    "    print(i)\n",
    "    i=i+1 # incrementing i by 1"
   ]
  },
  {
   "cell_type": "code",
   "execution_count": 572,
   "metadata": {},
   "outputs": [
    {
     "name": "stdout",
     "output_type": "stream",
     "text": [
      "inside while loop= 0\n",
      "inside while loop= 1\n",
      "inside while loop= 2\n",
      "inside while loop= 3\n",
      "inside while loop= 4\n",
      "inside while loop= 5\n",
      "inside while loop= 6\n",
      "inside while loop= 7\n",
      "inside while loop= 8\n",
      "inside while loop= 9\n",
      "outside while loop= 10\n"
     ]
    }
   ],
   "source": [
    "i=0\n",
    "while i<10:\n",
    "    print(\"inside while loop=\",i)\n",
    "    i=i+1 # incrementing i by 1\n",
    "print(\"outside while loop=\",i)"
   ]
  },
  {
   "cell_type": "code",
   "execution_count": 2,
   "metadata": {},
   "outputs": [
    {
     "name": "stdout",
     "output_type": "stream",
     "text": [
      "0\n",
      "1\n",
      "1\n",
      "2\n",
      "3\n",
      "5\n",
      "8\n",
      "13\n",
      "21\n",
      "34\n",
      "55\n",
      "89\n",
      "144\n"
     ]
    }
   ],
   "source": [
    "# print out the fibbonacci series using while loop:\n",
    "a=0\n",
    "b=1\n",
    "print(a)\n",
    "print(b)\n",
    "while(b<100):\n",
    "    c=a+b\n",
    "    print(c)\n",
    "    a=b\n",
    "    b=c\n",
    "    "
   ]
  },
  {
   "cell_type": "code",
   "execution_count": 16,
   "metadata": {
    "scrolled": true
   },
   "outputs": [
    {
     "name": "stdout",
     "output_type": "stream",
     "text": [
      "1\n",
      "2\n",
      "4\n",
      "8\n",
      "16\n",
      "32\n",
      "64\n"
     ]
    }
   ],
   "source": [
    "a=0\n",
    "b=1\n",
    "while(b<100):\n",
    "    print(b)\n",
    "    a=b\n",
    "    b=a+b"
   ]
  },
  {
   "cell_type": "code",
   "execution_count": 43,
   "metadata": {},
   "outputs": [
    {
     "name": "stdout",
     "output_type": "stream",
     "text": [
      "0\n",
      "1\n",
      "1\n",
      "2\n",
      "3\n",
      "5\n",
      "8\n",
      "13\n",
      "21\n",
      "34\n",
      "55\n"
     ]
    }
   ],
   "source": [
    "# multiple assignment\n",
    "a=0\n",
    "b=1\n",
    "while(b<100):\n",
    "    print(a)\n",
    "    a,b=b,a+b"
   ]
  },
  {
   "cell_type": "code",
   "execution_count": 4,
   "metadata": {},
   "outputs": [
    {
     "name": "stdout",
     "output_type": "stream",
     "text": [
      "0\n",
      "1\n",
      "1\n",
      "2\n",
      "3\n",
      "5\n",
      "8\n",
      "13\n",
      "21\n",
      "34\n",
      "55\n"
     ]
    }
   ],
   "source": [
    "a=0\n",
    "b=1\n",
    "while(b<100):\n",
    "    print(a)\n",
    "    a,b=b,a+b"
   ]
  },
  {
   "cell_type": "code",
   "execution_count": 5,
   "metadata": {},
   "outputs": [
    {
     "name": "stdout",
     "output_type": "stream",
     "text": [
      "----------------------------------------------------------------------------------------------------\n"
     ]
    }
   ],
   "source": [
    "print(\"-\"*100)"
   ]
  },
  {
   "cell_type": "markdown",
   "metadata": {},
   "source": [
    "##  IF ELSE"
   ]
  },
  {
   "cell_type": "code",
   "execution_count": 8,
   "metadata": {},
   "outputs": [
    {
     "name": "stdout",
     "output_type": "stream",
     "text": [
      "word starts with P\n"
     ]
    }
   ],
   "source": [
    "word=\"Python\"\n",
    "if(word.startswith('P')):\n",
    "    print(\"word starts with P\")\n",
    "else:\n",
    "    print(\"word doesnt starts with P\")"
   ]
  },
  {
   "cell_type": "code",
   "execution_count": 12,
   "metadata": {},
   "outputs": [
    {
     "name": "stdout",
     "output_type": "stream",
     "text": [
      "word ends with n\n"
     ]
    }
   ],
   "source": [
    "if(word.startswith(\"J\")):\n",
    "    print(\"word starts with J\")\n",
    "elif(word.endswith('n')):\n",
    "    print(\"word ends with n\")\n",
    "elif(word.startswith(\"A\")):\n",
    "    print(\"word starts with A\")\n",
    "else:\n",
    "    print(\"unknown word\")"
   ]
  },
  {
   "cell_type": "code",
   "execution_count": 13,
   "metadata": {},
   "outputs": [
    {
     "name": "stdout",
     "output_type": "stream",
     "text": [
      "cat 3\n",
      "dog 3\n",
      "cow 3\n",
      "parrot 6\n",
      "hamster 7\n",
      "goat 4\n"
     ]
    }
   ],
   "source": [
    "words=[\"cat\",\"dog\",\"cow\",\"parrot\",\"hamster\",\"goat\"]\n",
    "for w in words:\n",
    "    print(w,len(w))"
   ]
  },
  {
   "cell_type": "code",
   "execution_count": 15,
   "metadata": {},
   "outputs": [
    {
     "name": "stdout",
     "output_type": "stream",
     "text": [
      "0,1,2,3,4,"
     ]
    }
   ],
   "source": [
    "for i in range(5):\n",
    "    print(i,end=\",\")"
   ]
  },
  {
   "cell_type": "code",
   "execution_count": 16,
   "metadata": {},
   "outputs": [
    {
     "name": "stdout",
     "output_type": "stream",
     "text": [
      "3,4,5,6,7,8,9,"
     ]
    }
   ],
   "source": [
    "for i in range(3,10):\n",
    "    print(i,end=\",\")"
   ]
  },
  {
   "cell_type": "code",
   "execution_count": 17,
   "metadata": {},
   "outputs": [
    {
     "name": "stdout",
     "output_type": "stream",
     "text": [
      "3,5,7,9,"
     ]
    }
   ],
   "source": [
    "for i in range(3,10,2):\n",
    "    print(i,end=\",\")"
   ]
  },
  {
   "cell_type": "code",
   "execution_count": 19,
   "metadata": {},
   "outputs": [
    {
     "name": "stdout",
     "output_type": "stream",
     "text": [
      "10,5,0,-5,-10,-15,-20,-25,\n"
     ]
    }
   ],
   "source": [
    "for i in range(10,-30,-5):\n",
    "    print(i,end=\",\")\n",
    "print()"
   ]
  },
  {
   "cell_type": "code",
   "execution_count": 20,
   "metadata": {},
   "outputs": [
    {
     "name": "stdout",
     "output_type": "stream",
     "text": [
      "[[0, 'jane'], [1, 'john'], [2, 'mark'], [3, 'harry'], [4, 'mike'], [5, 'ed']]\n"
     ]
    }
   ],
   "source": [
    "words=[\"jane\",\"john\",\"mark\",\"harry\",\"mike\",\"ed\"]\n",
    "wordlist=[]\n",
    "for i in range(len(words)):\n",
    "    wordlist.append([i,words[i]])\n",
    "print(wordlist)"
   ]
  },
  {
   "cell_type": "code",
   "execution_count": 22,
   "metadata": {},
   "outputs": [
    {
     "name": "stdout",
     "output_type": "stream",
     "text": [
      "[1, 2, 3, 4, [5, 6, 7, 8]] 5\n"
     ]
    }
   ],
   "source": [
    "n=[1,2,3,4]\n",
    "n.append([5,6,7,8])\n",
    "print(n,len(n))"
   ]
  },
  {
   "cell_type": "code",
   "execution_count": 24,
   "metadata": {},
   "outputs": [
    {
     "name": "stdout",
     "output_type": "stream",
     "text": [
      "range is not a list:  range(0, 10)\n"
     ]
    }
   ],
   "source": [
    "print(\"range is not a list: \",range(10))"
   ]
  },
  {
   "cell_type": "code",
   "execution_count": 25,
   "metadata": {},
   "outputs": [
    {
     "name": "stdout",
     "output_type": "stream",
     "text": [
      "generate list underlying range:  [0, 1, 2, 3, 4, 5, 6, 7, 8, 9]\n"
     ]
    }
   ],
   "source": [
    "print(\"generate list underlying range: \",list(range(10)))"
   ]
  },
  {
   "cell_type": "code",
   "execution_count": 26,
   "metadata": {},
   "outputs": [],
   "source": [
    "# break breaks out from innermost loop"
   ]
  },
  {
   "cell_type": "code",
   "execution_count": 29,
   "metadata": {},
   "outputs": [
    {
     "name": "stdout",
     "output_type": "stream",
     "text": [
      "value of n is :  1\n",
      "found even number:  2\n",
      "out of for loop\n"
     ]
    }
   ],
   "source": [
    "# example:\n",
    "for n in range(1,10):\n",
    "    if n%2==0:\n",
    "        print(\"found even number: \",n)\n",
    "        break\n",
    "    print(\"value of n is : \",n)\n",
    "print(\"out of for loop\")"
   ]
  },
  {
   "cell_type": "code",
   "execution_count": 41,
   "metadata": {},
   "outputs": [],
   "source": [
    "# here, n takes 1 and since the if stmt if false it prints the \"value of n\" \n",
    "# and goes to the next number where n is 2 and since the if statemnt is true it prints \"found even number\" and breaks \n",
    "# i.e, it comes out of the nearest loop which is a for loop and prints \"out of for loop\""
   ]
  },
  {
   "cell_type": "code",
   "execution_count": 39,
   "metadata": {},
   "outputs": [
    {
     "name": "stdout",
     "output_type": "stream",
     "text": [
      "found even number:  2\n"
     ]
    }
   ],
   "source": [
    "for n in range(1,10):\n",
    "    if n%2==0:\n",
    "        print(\"found even number: \",n)\n",
    "        break"
   ]
  },
  {
   "cell_type": "code",
   "execution_count": 45,
   "metadata": {},
   "outputs": [
    {
     "name": "stdout",
     "output_type": "stream",
     "text": [
      "even number not found: 1\n",
      "even number not found: 3\n",
      "even number not found: 5\n",
      "even number not found: 7\n",
      "even number not found: 9\n",
      "even number not found\n"
     ]
    }
   ],
   "source": [
    "for n in range(1,10,2):\n",
    "    if n%2==0:\n",
    "        print(\"found even number: \",n)\n",
    "        break\n",
    "    print(\"even number not found:\",n)\n",
    "else:\n",
    "    print(\"even number not found\")\n"
   ]
  },
  {
   "cell_type": "code",
   "execution_count": 38,
   "metadata": {},
   "outputs": [
    {
     "name": "stdout",
     "output_type": "stream",
     "text": [
      "even number not found: 1\n",
      "found even number:  2\n"
     ]
    }
   ],
   "source": [
    "for n in range(1,10):\n",
    "    if n%2==0:\n",
    "        print(\"found even number: \",n)\n",
    "        break\n",
    "    else:\n",
    "        print(\"even number not found:\",n)\n",
    "else:\n",
    "    print(\"even number not found\")  \n",
    "    # this statement only gets executed when nothing else inside the for loop is executed \n",
    "    # if you find nothing in the for loop this stmt gets executed\n",
    "    \n",
    "    # if in the loop there is a break statemnet i.e, if any break stmt is executed then it doesnt execute else stmt\n",
    "    #after the for loop"
   ]
  },
  {
   "cell_type": "code",
   "execution_count": 46,
   "metadata": {},
   "outputs": [
    {
     "name": "stdout",
     "output_type": "stream",
     "text": [
      "not an even number: 1\n",
      "even number: 2\n",
      "not an even number: 3\n",
      "even number: 4\n",
      "not an even number: 5\n",
      "even number: 6\n",
      "not an even number: 7\n",
      "even number: 8\n",
      "not an even number: 9\n"
     ]
    }
   ],
   "source": [
    "# CONTINUE\n",
    "for n in range(1,10):\n",
    "    if n%2==0:\n",
    "        print(\"even number:\",n)\n",
    "        continue\n",
    "    print(\"not an even number:\",n)\n",
    "    # continue says that dont execute anything below continue inside the for loop...\n",
    "    #just go back to the for loop and start itterating again (continue- goes to nxt iteration in the group)"
   ]
  },
  {
   "cell_type": "code",
   "execution_count": 47,
   "metadata": {},
   "outputs": [
    {
     "name": "stdout",
     "output_type": "stream",
     "text": [
      "not an even number: 1\n",
      "even number: 2\n",
      "not an even number: 2\n",
      "not an even number: 3\n",
      "even number: 4\n",
      "not an even number: 4\n",
      "not an even number: 5\n",
      "even number: 6\n",
      "not an even number: 6\n",
      "not an even number: 7\n",
      "even number: 8\n",
      "not an even number: 8\n",
      "not an even number: 9\n"
     ]
    }
   ],
   "source": [
    "for n in range(1,10):\n",
    "    if n%2==0:\n",
    "        print(\"even number:\",n)       \n",
    "    print(\"not an even number:\",n)\n",
    "    \n",
    "    # if there is no continue"
   ]
  },
  {
   "cell_type": "code",
   "execution_count": null,
   "metadata": {},
   "outputs": [],
   "source": [
    "# pass\n",
    "# it does nothing. it can be used when a stmt is required syntactically but the program requires no action.\n",
    "for i in range(1,-10,2):\n",
    "    print(i,end=\",\")\n",
    "while(True):\n",
    "    pass"
   ]
  },
  {
   "cell_type": "code",
   "execution_count": null,
   "metadata": {},
   "outputs": [],
   "source": [
    "while True:\n",
    "    pass"
   ]
  },
  {
   "cell_type": "code",
   "execution_count": 3,
   "metadata": {},
   "outputs": [
    {
     "name": "stdout",
     "output_type": "stream",
     "text": [
      "1\n",
      "2\n",
      "3\n",
      "4\n",
      "5\n",
      "6\n",
      "7\n",
      "8\n",
      "9\n",
      "condition is true\n"
     ]
    }
   ],
   "source": [
    "n=1\n",
    "while(n<10):\n",
    "    print(n)\n",
    "    n+=1\n",
    "if(5>3):\n",
    "    print(\"condition is true\")"
   ]
  },
  {
   "cell_type": "code",
   "execution_count": 4,
   "metadata": {},
   "outputs": [
    {
     "name": "stdout",
     "output_type": "stream",
     "text": [
      "1\n",
      "2\n",
      "3\n",
      "4\n",
      "5\n",
      "6\n",
      "7\n",
      "8\n",
      "9\n"
     ]
    }
   ],
   "source": [
    "n=1\n",
    "while(n<10):\n",
    "    print(n)\n",
    "    n+=1\n",
    "if(5<3):\n",
    "    print(\"condition is true\")"
   ]
  },
  {
   "cell_type": "markdown",
   "metadata": {},
   "source": [
    "# DETOUR: OBJECTS NAMES AND BINDINGS"
   ]
  },
  {
   "cell_type": "code",
   "execution_count": 2,
   "metadata": {},
   "outputs": [],
   "source": [
    "# In python almost everything is an object\n",
    "# there are 2 types of objects in python - mutable and immutable\n",
    "## MUTABLE:\n",
    "# A mutable object exhibits time varying behaviour\n",
    "#\n",
    "# eg: lists    eg: mylist=[\"nikita\",\"anvesh\"]\n",
    "# mylist[1]=\"sai krishna\"\n",
    "# you can update a list with new name"
   ]
  },
  {
   "cell_type": "code",
   "execution_count": 3,
   "metadata": {},
   "outputs": [],
   "source": [
    "# variable in python is called \"name\".....eg: mylist mystrng\n",
    "# and \n",
    "# assignment is binding...so you are binding names to objects...eg: =:binding,name:mylist,object:[\"nikita\",\"anvesh\"]\n",
    "# there is a diff between binding and copying\n",
    "# list is a mutable object and strings are immutable\n",
    "# binding names to objects .....\n",
    "####### assignment between names doest not create a new object"
   ]
  },
  {
   "cell_type": "code",
   "execution_count": 2,
   "metadata": {},
   "outputs": [
    {
     "name": "stdout",
     "output_type": "stream",
     "text": [
      "bill\n",
      "['fred', 'george']\n",
      "['fred', 'george']\n"
     ]
    }
   ],
   "source": [
    "some_guy=\"fred\"\n",
    "# \"name\" saying some_guy and binding it to string object \"fred\"\n",
    "first_names=[]\n",
    "first_names.append(some_guy)\n",
    "another_list_of_names=first_names  ####### assignment between names doest not create a new object\n",
    "another_list_of_names.append(\"george\")\n",
    "some_guy=\"bill\"\n",
    "print(some_guy)\n",
    "print(first_names)\n",
    "print(another_list_of_names)\n",
    "#### All of the names bound to the same object continue to see the change in that object if it is mutable....as it\n",
    "### stores in the same memory"
   ]
  },
  {
   "cell_type": "code",
   "execution_count": 4,
   "metadata": {},
   "outputs": [
    {
     "name": "stdout",
     "output_type": "stream",
     "text": [
      "True\n",
      "[1, 2, 10] [1, 2, 10]\n"
     ]
    }
   ],
   "source": [
    "# difference between copying and binding\n",
    "a=[1,2,3]\n",
    "b=a\n",
    "print(b is a)   # this is binding....b and a both are bound to the same location in the memory i.e, same list\n",
    "b[2]=10\n",
    "print(a,b) "
   ]
  },
  {
   "cell_type": "code",
   "execution_count": 5,
   "metadata": {},
   "outputs": [
    {
     "name": "stdout",
     "output_type": "stream",
     "text": [
      "False\n",
      "[1, 2, 3] [1, 2, 10]\n"
     ]
    }
   ],
   "source": [
    "# what if u wanna create something whoch is in the new location of the memory\n",
    "a=[1,2,3]\n",
    "c=[]\n",
    "c[:]=a[:] # take all of the elements from a and copy them to c\n",
    "print(c is a)  # this is how we know if it is a binding or copying\n",
    "c[2]=10   # here we just edited list c and nothing has changed in a\n",
    "print(a,c)"
   ]
  },
  {
   "cell_type": "markdown",
   "metadata": {},
   "source": [
    "# Functions"
   ]
  },
  {
   "cell_type": "code",
   "execution_count": 6,
   "metadata": {},
   "outputs": [
    {
     "data": {
      "text/plain": [
       "[1, 1, 2, 3, 5, 8, 13, 21, 34, 55]"
      ]
     },
     "execution_count": 6,
     "metadata": {},
     "output_type": "execute_result"
    }
   ],
   "source": [
    "def fib(n):\n",
    "    result=[]\n",
    "    a,b=0,1\n",
    "    for i in range(n):\n",
    "        result.append(b)\n",
    "        a,b=b,a+b\n",
    "    return result\n",
    "fib(10)    # program execution starts here"
   ]
  },
  {
   "cell_type": "code",
   "execution_count": null,
   "metadata": {},
   "outputs": [],
   "source": [
    "# pow, abs all are function calls with in math module...when we type pow or abs they are gonna call their functions\n",
    "# arguments are also called parameters\n",
    "# program execution in a function starts from when you call a function."
   ]
  },
  {
   "cell_type": "code",
   "execution_count": 9,
   "metadata": {},
   "outputs": [
    {
     "name": "stdout",
     "output_type": "stream",
     "text": [
      "bar= oldvalue\n",
      "bar= newvalue\n",
      "answer= oldvalue\n"
     ]
    }
   ],
   "source": [
    "# object binding in functions\n",
    "def foo(bar):\n",
    "    print(\"bar=\",bar)\n",
    "    bar=\"newvalue\"\n",
    "    print(\"bar=\",bar)\n",
    "answer=\"oldvalue\"      ## program starts here\n",
    "foo(answer)\n",
    "print(\"answer=\",answer)"
   ]
  },
  {
   "cell_type": "code",
   "execution_count": 10,
   "metadata": {},
   "outputs": [
    {
     "name": "stdout",
     "output_type": "stream",
     "text": [
      "bar= []\n",
      "bar= [42]\n",
      "answer= [42]\n"
     ]
    }
   ],
   "source": [
    "def foo(bar):\n",
    "    print(\"bar=\",bar)\n",
    "    bar.append(42)\n",
    "    print(\"bar=\",bar)\n",
    "answer=[]      ## program starts here\n",
    "foo(answer)\n",
    "print(\"answer=\",answer)"
   ]
  },
  {
   "cell_type": "code",
   "execution_count": 11,
   "metadata": {},
   "outputs": [],
   "source": [
    "# \"\"& is used i sets for intersection | is used for union in sets\"\""
   ]
  },
  {
   "cell_type": "code",
   "execution_count": 20,
   "metadata": {},
   "outputs": [
    {
     "name": "stdout",
     "output_type": "stream",
     "text": [
      "10 100\n",
      "20 200\n",
      "30 300\n"
     ]
    }
   ],
   "source": [
    "lst1=[10,20,30]\n",
    "lst2=[100,200,300]\n",
    "for l in zip(lst1,lst2):\n",
    "    l1,l2=l\n",
    "    print(l1,l2)"
   ]
  },
  {
   "cell_type": "code",
   "execution_count": 21,
   "metadata": {},
   "outputs": [
    {
     "name": "stdout",
     "output_type": "stream",
     "text": [
      "10 100\n",
      "20 200\n",
      "30 300\n"
     ]
    }
   ],
   "source": [
    "lst1=[10,20,30]\n",
    "lst2=[100,200,300]\n",
    "for l1,l2 in zip(lst1,lst2):\n",
    "    #l1,l2=l\n",
    "    print(l1,l2)"
   ]
  },
  {
   "cell_type": "code",
   "execution_count": 22,
   "metadata": {},
   "outputs": [
    {
     "name": "stdout",
     "output_type": "stream",
     "text": [
      "a 1\n",
      "b 2 10\n",
      "c 3 20\n"
     ]
    }
   ],
   "source": [
    "\n",
    "d1={\"a\":1,\"b\":2,\"c\":3}\n",
    "d2={\"b\":10,\"c\":20,\"z\":30}\n",
    "\n",
    "for k in d1.keys():\n",
    "    if k in d2.keys():\n",
    "        print(k,d1[k],d2[k])\n",
    "    else:\n",
    "        print(k,d1[k])"
   ]
  },
  {
   "cell_type": "code",
   "execution_count": 23,
   "metadata": {},
   "outputs": [
    {
     "name": "stdout",
     "output_type": "stream",
     "text": [
      "60\n"
     ]
    }
   ],
   "source": [
    "suml1=0\n",
    "for l1 in lst1:\n",
    "    suml1=suml1+l1\n",
    "print(suml1)"
   ]
  },
  {
   "cell_type": "code",
   "execution_count": 24,
   "metadata": {},
   "outputs": [
    {
     "name": "stdout",
     "output_type": "stream",
     "text": [
      "60 600\n"
     ]
    }
   ],
   "source": [
    "suml1=0\n",
    "suml2=0\n",
    "for l1,l2 in zip(lst1,lst2):\n",
    "    suml1=suml1+l1\n",
    "    suml2=suml2+l2\n",
    "print(suml1,suml2)"
   ]
  },
  {
   "cell_type": "code",
   "execution_count": null,
   "metadata": {},
   "outputs": [],
   "source": []
  },
  {
   "cell_type": "code",
   "execution_count": null,
   "metadata": {},
   "outputs": [],
   "source": []
  }
 ],
 "metadata": {
  "kernelspec": {
   "display_name": "Python 3",
   "language": "python",
   "name": "python3"
  },
  "language_info": {
   "codemirror_mode": {
    "name": "ipython",
    "version": 3
   },
   "file_extension": ".py",
   "mimetype": "text/x-python",
   "name": "python",
   "nbconvert_exporter": "python",
   "pygments_lexer": "ipython3",
   "version": "3.7.3"
  }
 },
 "nbformat": 4,
 "nbformat_minor": 2
}
